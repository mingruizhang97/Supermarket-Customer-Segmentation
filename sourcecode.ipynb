{
  "cells": [
    {
      "cell_type": "code",
      "execution_count": 2,
      "metadata": {
        "id": "QU9EIU8yt--j"
      },
      "outputs": [],
      "source": [
        "# import packages \n",
        "import numpy as np\n",
        "import pandas as pd\n",
        "import matplotlib.pyplot as plt\n",
        "import datetime\n",
        "from sklearn.preprocessing import OneHotEncoder,StandardScaler\n",
        "import seaborn as sns\n",
        "from sklearn.decomposition import PCA\n",
        "from mpl_toolkits.mplot3d import Axes3D\n",
        "from sklearn.cluster import KMeans\n",
        "from sklearn.metrics import silhouette_score, davies_bouldin_score\n",
        "import keras\n",
        "from keras import layers"
      ]
    },
    {
      "cell_type": "code",
      "source": [
        "df = pd.read_csv('customer_segmentation.csv',sep='\\t')"
      ],
      "metadata": {
        "id": "m9XpsheNvUof"
      },
      "execution_count": 6,
      "outputs": []
    },
    {
      "cell_type": "code",
      "execution_count": 7,
      "metadata": {
        "colab": {
          "base_uri": "https://localhost:8080/",
          "height": 297
        },
        "id": "7Pe2IbtGt--r",
        "outputId": "b5bcf496-2951-4573-dabb-9d2bd01f7219"
      },
      "outputs": [
        {
          "output_type": "execute_result",
          "data": {
            "text/plain": [
              "     ID  Year_Birth   Education Marital_Status   Income  Kidhome  Teenhome  \\\n",
              "0  5524        1957  Graduation         Single  58138.0        0         0   \n",
              "1  2174        1954  Graduation         Single  46344.0        1         1   \n",
              "2  4141        1965  Graduation       Together  71613.0        0         0   \n",
              "3  6182        1984  Graduation       Together  26646.0        1         0   \n",
              "4  5324        1981         PhD        Married  58293.0        1         0   \n",
              "\n",
              "  Dt_Customer  Recency  MntWines  ...  NumWebVisitsMonth  AcceptedCmp3  \\\n",
              "0  04-09-2012       58       635  ...                  7             0   \n",
              "1  08-03-2014       38        11  ...                  5             0   \n",
              "2  21-08-2013       26       426  ...                  4             0   \n",
              "3  10-02-2014       26        11  ...                  6             0   \n",
              "4  19-01-2014       94       173  ...                  5             0   \n",
              "\n",
              "   AcceptedCmp4  AcceptedCmp5  AcceptedCmp1  AcceptedCmp2  Complain  \\\n",
              "0             0             0             0             0         0   \n",
              "1             0             0             0             0         0   \n",
              "2             0             0             0             0         0   \n",
              "3             0             0             0             0         0   \n",
              "4             0             0             0             0         0   \n",
              "\n",
              "   Z_CostContact  Z_Revenue  Response  \n",
              "0              3         11         1  \n",
              "1              3         11         0  \n",
              "2              3         11         0  \n",
              "3              3         11         0  \n",
              "4              3         11         0  \n",
              "\n",
              "[5 rows x 29 columns]"
            ],
            "text/html": [
              "\n",
              "  <div id=\"df-ad36741f-06c0-44b9-93ea-28da6e0e9776\">\n",
              "    <div class=\"colab-df-container\">\n",
              "      <div>\n",
              "<style scoped>\n",
              "    .dataframe tbody tr th:only-of-type {\n",
              "        vertical-align: middle;\n",
              "    }\n",
              "\n",
              "    .dataframe tbody tr th {\n",
              "        vertical-align: top;\n",
              "    }\n",
              "\n",
              "    .dataframe thead th {\n",
              "        text-align: right;\n",
              "    }\n",
              "</style>\n",
              "<table border=\"1\" class=\"dataframe\">\n",
              "  <thead>\n",
              "    <tr style=\"text-align: right;\">\n",
              "      <th></th>\n",
              "      <th>ID</th>\n",
              "      <th>Year_Birth</th>\n",
              "      <th>Education</th>\n",
              "      <th>Marital_Status</th>\n",
              "      <th>Income</th>\n",
              "      <th>Kidhome</th>\n",
              "      <th>Teenhome</th>\n",
              "      <th>Dt_Customer</th>\n",
              "      <th>Recency</th>\n",
              "      <th>MntWines</th>\n",
              "      <th>...</th>\n",
              "      <th>NumWebVisitsMonth</th>\n",
              "      <th>AcceptedCmp3</th>\n",
              "      <th>AcceptedCmp4</th>\n",
              "      <th>AcceptedCmp5</th>\n",
              "      <th>AcceptedCmp1</th>\n",
              "      <th>AcceptedCmp2</th>\n",
              "      <th>Complain</th>\n",
              "      <th>Z_CostContact</th>\n",
              "      <th>Z_Revenue</th>\n",
              "      <th>Response</th>\n",
              "    </tr>\n",
              "  </thead>\n",
              "  <tbody>\n",
              "    <tr>\n",
              "      <th>0</th>\n",
              "      <td>5524</td>\n",
              "      <td>1957</td>\n",
              "      <td>Graduation</td>\n",
              "      <td>Single</td>\n",
              "      <td>58138.0</td>\n",
              "      <td>0</td>\n",
              "      <td>0</td>\n",
              "      <td>04-09-2012</td>\n",
              "      <td>58</td>\n",
              "      <td>635</td>\n",
              "      <td>...</td>\n",
              "      <td>7</td>\n",
              "      <td>0</td>\n",
              "      <td>0</td>\n",
              "      <td>0</td>\n",
              "      <td>0</td>\n",
              "      <td>0</td>\n",
              "      <td>0</td>\n",
              "      <td>3</td>\n",
              "      <td>11</td>\n",
              "      <td>1</td>\n",
              "    </tr>\n",
              "    <tr>\n",
              "      <th>1</th>\n",
              "      <td>2174</td>\n",
              "      <td>1954</td>\n",
              "      <td>Graduation</td>\n",
              "      <td>Single</td>\n",
              "      <td>46344.0</td>\n",
              "      <td>1</td>\n",
              "      <td>1</td>\n",
              "      <td>08-03-2014</td>\n",
              "      <td>38</td>\n",
              "      <td>11</td>\n",
              "      <td>...</td>\n",
              "      <td>5</td>\n",
              "      <td>0</td>\n",
              "      <td>0</td>\n",
              "      <td>0</td>\n",
              "      <td>0</td>\n",
              "      <td>0</td>\n",
              "      <td>0</td>\n",
              "      <td>3</td>\n",
              "      <td>11</td>\n",
              "      <td>0</td>\n",
              "    </tr>\n",
              "    <tr>\n",
              "      <th>2</th>\n",
              "      <td>4141</td>\n",
              "      <td>1965</td>\n",
              "      <td>Graduation</td>\n",
              "      <td>Together</td>\n",
              "      <td>71613.0</td>\n",
              "      <td>0</td>\n",
              "      <td>0</td>\n",
              "      <td>21-08-2013</td>\n",
              "      <td>26</td>\n",
              "      <td>426</td>\n",
              "      <td>...</td>\n",
              "      <td>4</td>\n",
              "      <td>0</td>\n",
              "      <td>0</td>\n",
              "      <td>0</td>\n",
              "      <td>0</td>\n",
              "      <td>0</td>\n",
              "      <td>0</td>\n",
              "      <td>3</td>\n",
              "      <td>11</td>\n",
              "      <td>0</td>\n",
              "    </tr>\n",
              "    <tr>\n",
              "      <th>3</th>\n",
              "      <td>6182</td>\n",
              "      <td>1984</td>\n",
              "      <td>Graduation</td>\n",
              "      <td>Together</td>\n",
              "      <td>26646.0</td>\n",
              "      <td>1</td>\n",
              "      <td>0</td>\n",
              "      <td>10-02-2014</td>\n",
              "      <td>26</td>\n",
              "      <td>11</td>\n",
              "      <td>...</td>\n",
              "      <td>6</td>\n",
              "      <td>0</td>\n",
              "      <td>0</td>\n",
              "      <td>0</td>\n",
              "      <td>0</td>\n",
              "      <td>0</td>\n",
              "      <td>0</td>\n",
              "      <td>3</td>\n",
              "      <td>11</td>\n",
              "      <td>0</td>\n",
              "    </tr>\n",
              "    <tr>\n",
              "      <th>4</th>\n",
              "      <td>5324</td>\n",
              "      <td>1981</td>\n",
              "      <td>PhD</td>\n",
              "      <td>Married</td>\n",
              "      <td>58293.0</td>\n",
              "      <td>1</td>\n",
              "      <td>0</td>\n",
              "      <td>19-01-2014</td>\n",
              "      <td>94</td>\n",
              "      <td>173</td>\n",
              "      <td>...</td>\n",
              "      <td>5</td>\n",
              "      <td>0</td>\n",
              "      <td>0</td>\n",
              "      <td>0</td>\n",
              "      <td>0</td>\n",
              "      <td>0</td>\n",
              "      <td>0</td>\n",
              "      <td>3</td>\n",
              "      <td>11</td>\n",
              "      <td>0</td>\n",
              "    </tr>\n",
              "  </tbody>\n",
              "</table>\n",
              "<p>5 rows × 29 columns</p>\n",
              "</div>\n",
              "      <button class=\"colab-df-convert\" onclick=\"convertToInteractive('df-ad36741f-06c0-44b9-93ea-28da6e0e9776')\"\n",
              "              title=\"Convert this dataframe to an interactive table.\"\n",
              "              style=\"display:none;\">\n",
              "        \n",
              "  <svg xmlns=\"http://www.w3.org/2000/svg\" height=\"24px\"viewBox=\"0 0 24 24\"\n",
              "       width=\"24px\">\n",
              "    <path d=\"M0 0h24v24H0V0z\" fill=\"none\"/>\n",
              "    <path d=\"M18.56 5.44l.94 2.06.94-2.06 2.06-.94-2.06-.94-.94-2.06-.94 2.06-2.06.94zm-11 1L8.5 8.5l.94-2.06 2.06-.94-2.06-.94L8.5 2.5l-.94 2.06-2.06.94zm10 10l.94 2.06.94-2.06 2.06-.94-2.06-.94-.94-2.06-.94 2.06-2.06.94z\"/><path d=\"M17.41 7.96l-1.37-1.37c-.4-.4-.92-.59-1.43-.59-.52 0-1.04.2-1.43.59L10.3 9.45l-7.72 7.72c-.78.78-.78 2.05 0 2.83L4 21.41c.39.39.9.59 1.41.59.51 0 1.02-.2 1.41-.59l7.78-7.78 2.81-2.81c.8-.78.8-2.07 0-2.86zM5.41 20L4 18.59l7.72-7.72 1.47 1.35L5.41 20z\"/>\n",
              "  </svg>\n",
              "      </button>\n",
              "      \n",
              "  <style>\n",
              "    .colab-df-container {\n",
              "      display:flex;\n",
              "      flex-wrap:wrap;\n",
              "      gap: 12px;\n",
              "    }\n",
              "\n",
              "    .colab-df-convert {\n",
              "      background-color: #E8F0FE;\n",
              "      border: none;\n",
              "      border-radius: 50%;\n",
              "      cursor: pointer;\n",
              "      display: none;\n",
              "      fill: #1967D2;\n",
              "      height: 32px;\n",
              "      padding: 0 0 0 0;\n",
              "      width: 32px;\n",
              "    }\n",
              "\n",
              "    .colab-df-convert:hover {\n",
              "      background-color: #E2EBFA;\n",
              "      box-shadow: 0px 1px 2px rgba(60, 64, 67, 0.3), 0px 1px 3px 1px rgba(60, 64, 67, 0.15);\n",
              "      fill: #174EA6;\n",
              "    }\n",
              "\n",
              "    [theme=dark] .colab-df-convert {\n",
              "      background-color: #3B4455;\n",
              "      fill: #D2E3FC;\n",
              "    }\n",
              "\n",
              "    [theme=dark] .colab-df-convert:hover {\n",
              "      background-color: #434B5C;\n",
              "      box-shadow: 0px 1px 3px 1px rgba(0, 0, 0, 0.15);\n",
              "      filter: drop-shadow(0px 1px 2px rgba(0, 0, 0, 0.3));\n",
              "      fill: #FFFFFF;\n",
              "    }\n",
              "  </style>\n",
              "\n",
              "      <script>\n",
              "        const buttonEl =\n",
              "          document.querySelector('#df-ad36741f-06c0-44b9-93ea-28da6e0e9776 button.colab-df-convert');\n",
              "        buttonEl.style.display =\n",
              "          google.colab.kernel.accessAllowed ? 'block' : 'none';\n",
              "\n",
              "        async function convertToInteractive(key) {\n",
              "          const element = document.querySelector('#df-ad36741f-06c0-44b9-93ea-28da6e0e9776');\n",
              "          const dataTable =\n",
              "            await google.colab.kernel.invokeFunction('convertToInteractive',\n",
              "                                                     [key], {});\n",
              "          if (!dataTable) return;\n",
              "\n",
              "          const docLinkHtml = 'Like what you see? Visit the ' +\n",
              "            '<a target=\"_blank\" href=https://colab.research.google.com/notebooks/data_table.ipynb>data table notebook</a>'\n",
              "            + ' to learn more about interactive tables.';\n",
              "          element.innerHTML = '';\n",
              "          dataTable['output_type'] = 'display_data';\n",
              "          await google.colab.output.renderOutput(dataTable, element);\n",
              "          const docLink = document.createElement('div');\n",
              "          docLink.innerHTML = docLinkHtml;\n",
              "          element.appendChild(docLink);\n",
              "        }\n",
              "      </script>\n",
              "    </div>\n",
              "  </div>\n",
              "  "
            ]
          },
          "metadata": {},
          "execution_count": 7
        }
      ],
      "source": [
        "df.head()"
      ]
    },
    {
      "cell_type": "code",
      "execution_count": 8,
      "metadata": {
        "id": "ycfdw-nvt--s",
        "outputId": "86c0936d-8b12-4371-b50c-471149f7bcbb",
        "colab": {
          "base_uri": "https://localhost:8080/"
        }
      },
      "outputs": [
        {
          "output_type": "execute_result",
          "data": {
            "text/plain": [
              "Index(['ID', 'Year_Birth', 'Education', 'Marital_Status', 'Income', 'Kidhome',\n",
              "       'Teenhome', 'Dt_Customer', 'Recency', 'MntWines', 'MntFruits',\n",
              "       'MntMeatProducts', 'MntFishProducts', 'MntSweetProducts',\n",
              "       'MntGoldProds', 'NumDealsPurchases', 'NumWebPurchases',\n",
              "       'NumCatalogPurchases', 'NumStorePurchases', 'NumWebVisitsMonth',\n",
              "       'AcceptedCmp3', 'AcceptedCmp4', 'AcceptedCmp5', 'AcceptedCmp1',\n",
              "       'AcceptedCmp2', 'Complain', 'Z_CostContact', 'Z_Revenue', 'Response'],\n",
              "      dtype='object')"
            ]
          },
          "metadata": {},
          "execution_count": 8
        }
      ],
      "source": [
        "df.columns"
      ]
    },
    {
      "cell_type": "markdown",
      "metadata": {
        "id": "O9MKtaI7t--u"
      },
      "source": [
        "# Data Cleaning and Preprocessing"
      ]
    },
    {
      "cell_type": "code",
      "execution_count": 9,
      "metadata": {
        "id": "8cA_ziGNt--w",
        "outputId": "c0642bbd-317e-4c2f-e439-7194b19b55f6",
        "colab": {
          "base_uri": "https://localhost:8080/"
        }
      },
      "outputs": [
        {
          "output_type": "stream",
          "name": "stdout",
          "text": [
            "ID                      0\n",
            "Year_Birth              0\n",
            "Education               0\n",
            "Marital_Status          0\n",
            "Income                 24\n",
            "Kidhome                 0\n",
            "Teenhome                0\n",
            "Dt_Customer             0\n",
            "Recency                 0\n",
            "MntWines                0\n",
            "MntFruits               0\n",
            "MntMeatProducts         0\n",
            "MntFishProducts         0\n",
            "MntSweetProducts        0\n",
            "MntGoldProds            0\n",
            "NumDealsPurchases       0\n",
            "NumWebPurchases         0\n",
            "NumCatalogPurchases     0\n",
            "NumStorePurchases       0\n",
            "NumWebVisitsMonth       0\n",
            "AcceptedCmp3            0\n",
            "AcceptedCmp4            0\n",
            "AcceptedCmp5            0\n",
            "AcceptedCmp1            0\n",
            "AcceptedCmp2            0\n",
            "Complain                0\n",
            "Z_CostContact           0\n",
            "Z_Revenue               0\n",
            "Response                0\n",
            "dtype: int64\n"
          ]
        }
      ],
      "source": [
        "# data cleaning and preprocessing\n",
        "# Check missing values\n",
        "print(df.isnull().sum())\n",
        "# There are small amount of missing values among feature income, we will just simply drop them\n",
        "df=df.dropna()"
      ]
    },
    {
      "cell_type": "code",
      "execution_count": 10,
      "metadata": {
        "id": "AIMo-3sZt--y"
      },
      "outputs": [],
      "source": [
        "# get a new feature Age from year-birth\n",
        "df['Age']=2022-df['Year_Birth']"
      ]
    },
    {
      "cell_type": "code",
      "execution_count": 11,
      "metadata": {
        "id": "CFMYwSbTt--z",
        "outputId": "609fdf51-4f45-487c-a296-356901542a8a",
        "colab": {
          "base_uri": "https://localhost:8080/"
        }
      },
      "outputs": [
        {
          "output_type": "stream",
          "name": "stdout",
          "text": [
            "Graduation    1116\n",
            "PhD            481\n",
            "Master         365\n",
            "2n Cycle       200\n",
            "Basic           54\n",
            "Name: Education, dtype: int64\n",
            "1    1170\n",
            "2     565\n",
            "3     481\n",
            "Name: Education, dtype: int64\n"
          ]
        }
      ],
      "source": [
        "print(df['Education'].value_counts())\n",
        "# as I searched, 2n Cycle is equal to Master degree. Thus we convert 2n Cycle as Master\n",
        "df['Education']=df['Education'].replace({'2n Cycle':'Master','Basic':'Graduation'})\n",
        "# And Education feature is ordinal, we can represent them as numbers\n",
        "df['Education']=df['Education'].replace({'Graduation':1,'Master':2,'PhD':3})\n",
        "print(df['Education'].value_counts())"
      ]
    },
    {
      "cell_type": "code",
      "execution_count": 12,
      "metadata": {
        "id": "kckP-vs4t--0",
        "outputId": "68a43c93-367a-4116-897d-268d9c5a05ab",
        "colab": {
          "base_uri": "https://localhost:8080/"
        }
      },
      "outputs": [
        {
          "output_type": "stream",
          "name": "stdout",
          "text": [
            "Married     857\n",
            "Together    573\n",
            "Single      471\n",
            "Divorced    232\n",
            "Widow        76\n",
            "Alone         3\n",
            "Absurd        2\n",
            "YOLO          2\n",
            "Name: Marital_Status, dtype: int64\n",
            "1    1430\n",
            "0     786\n",
            "Name: Marital_Status, dtype: int64\n"
          ]
        }
      ],
      "source": [
        "print(df['Marital_Status'].value_counts())\n",
        "df['Marital_Status']=df['Marital_Status'].replace({'Divorced':0,'Widow':0,\n",
        "                                                   'Alone':0,'YOLO':0,'Absurd':0,'Single':0,'Married':1,'Together':1})\n",
        "print(df['Marital_Status'].value_counts())\n",
        "#encoder=OneHotEncoder()\n",
        "#transformed=encoder.fit_transform(df[['Marital_Status']]).toarray()\n",
        "#df[encoder.categories_[0]]=transformed"
      ]
    },
    {
      "cell_type": "code",
      "execution_count": 13,
      "metadata": {
        "id": "xU4iqe3et--2",
        "outputId": "266f6d8a-e0f3-462a-8f1c-d47c30554cc2",
        "colab": {
          "base_uri": "https://localhost:8080/",
          "height": 265
        }
      },
      "outputs": [
        {
          "output_type": "display_data",
          "data": {
            "text/plain": [
              "<Figure size 432x288 with 1 Axes>"
            ],
            "image/png": "[encoded data removed]"
          },
          "metadata": {
            "needs_background": "light"
          }
        }
      ],
      "source": [
        "# there is an outlier where income is 666666, drop it\n",
        "df=df[df['Income']<300000]\n",
        "plt.hist(df['Income'],bins=60)\n",
        "plt.show()"
      ]
    },
    {
      "cell_type": "code",
      "execution_count": 14,
      "metadata": {
        "id": "HA8nkjRqt--3",
        "outputId": "462af164-691c-400a-f6ee-f5e54d69b8cb",
        "colab": {
          "base_uri": "https://localhost:8080/"
        }
      },
      "outputs": [
        {
          "output_type": "stream",
          "name": "stdout",
          "text": [
            "0    1283\n",
            "1     886\n",
            "2      46\n",
            "Name: Kidhome, dtype: int64\n",
            "0    1146\n",
            "1    1018\n",
            "2      51\n",
            "Name: Teenhome, dtype: int64\n"
          ]
        }
      ],
      "source": [
        "# Combine Kidhome and Teenhome as ChildNum\n",
        "# There is no outliers among Kidhome and Teenhome\n",
        "print(df['Kidhome'].value_counts())\n",
        "print(df['Teenhome'].value_counts())\n",
        "df['ChildNum']=df['Kidhome']+df['Teenhome']"
      ]
    },
    {
      "cell_type": "code",
      "execution_count": 15,
      "metadata": {
        "id": "wMv35a8kt--4"
      },
      "outputs": [],
      "source": [
        "# create a new feature Customer_days to calculate number of days the customer became a member\n",
        "days=[]\n",
        "df['Dt_Customer']=pd.to_datetime(df[\"Dt_Customer\"],dayfirst=True)\n",
        "day2=datetime.datetime(2022,4,15)\n",
        "for i in df['Dt_Customer']:\n",
        "    days.append(day2-i)\n",
        "df['Customer_days']=days\n",
        "df['Customer_days']=df[\"Customer_days\"].dt.days"
      ]
    },
    {
      "cell_type": "code",
      "execution_count": 16,
      "metadata": {
        "id": "-kJN2mpPt--4"
      },
      "outputs": [],
      "source": [
        "df=df.drop(['ID','Year_Birth','Kidhome','Teenhome','Dt_Customer','Complain'\n",
        "            ,'Z_CostContact','Z_Revenue','AcceptedCmp1','AcceptedCmp2','AcceptedCmp3','AcceptedCmp4','AcceptedCmp5','Response'],axis=1)"
      ]
    },
    {
      "cell_type": "code",
      "execution_count": 17,
      "metadata": {
        "id": "IUG4zk70t--5",
        "outputId": "44ee61e8-cd82-4cff-8761-eed6f8a3cb6e",
        "colab": {
          "base_uri": "https://localhost:8080/",
          "height": 361
        }
      },
      "outputs": [
        {
          "output_type": "execute_result",
          "data": {
            "text/plain": [
              "         Education  Marital_Status         Income      Recency     MntWines  \\\n",
              "count  2215.000000     2215.000000    2215.000000  2215.000000  2215.000000   \n",
              "mean      1.689391        0.645147   51969.861400    49.024379   305.225282   \n",
              "std       0.805441        0.478577   21526.320095    28.949608   337.345380   \n",
              "min       1.000000        0.000000    1730.000000     0.000000     0.000000   \n",
              "25%       1.000000        0.000000   35284.000000    24.000000    24.000000   \n",
              "50%       1.000000        1.000000   51373.000000    49.000000   175.000000   \n",
              "75%       2.000000        1.000000   68487.000000    74.000000   505.000000   \n",
              "max       3.000000        1.000000  162397.000000    99.000000  1493.000000   \n",
              "\n",
              "         MntFruits  MntMeatProducts  MntFishProducts  MntSweetProducts  \\\n",
              "count  2215.000000      2215.000000      2215.000000       2215.000000   \n",
              "mean     26.361625       167.063205        37.651016         27.040632   \n",
              "std      39.802036       224.311559        54.760822         41.077594   \n",
              "min       0.000000         0.000000         0.000000          0.000000   \n",
              "25%       2.000000        16.000000         3.000000          1.000000   \n",
              "50%       8.000000        68.000000        12.000000          8.000000   \n",
              "75%      33.000000       232.500000        50.000000         33.000000   \n",
              "max     199.000000      1725.000000       259.000000        262.000000   \n",
              "\n",
              "       MntGoldProds  NumDealsPurchases  NumWebPurchases  NumCatalogPurchases  \\\n",
              "count   2215.000000        2215.000000      2215.000000          2215.000000   \n",
              "mean      43.979684           2.322799         4.085779             2.671783   \n",
              "std       51.822660           1.923820         2.741473             2.927179   \n",
              "min        0.000000           0.000000         0.000000             0.000000   \n",
              "25%        9.000000           1.000000         2.000000             0.000000   \n",
              "50%       25.000000           2.000000         4.000000             2.000000   \n",
              "75%       56.000000           3.000000         6.000000             4.000000   \n",
              "max      321.000000          15.000000        27.000000            28.000000   \n",
              "\n",
              "       NumStorePurchases  NumWebVisitsMonth          Age     ChildNum  \\\n",
              "count        2215.000000        2215.000000  2215.000000  2215.000000   \n",
              "mean            5.802257           5.318736    53.183296     0.947178   \n",
              "std             3.250974           2.425863    11.987000     0.749230   \n",
              "min             0.000000           0.000000    26.000000     0.000000   \n",
              "25%             3.000000           3.000000    45.000000     0.000000   \n",
              "50%             5.000000           6.000000    52.000000     1.000000   \n",
              "75%             8.000000           7.000000    63.000000     1.000000   \n",
              "max            13.000000          20.000000   129.000000     3.000000   \n",
              "\n",
              "       Customer_days  \n",
              "count    2215.000000  \n",
              "mean     3200.503837  \n",
              "std       202.478727  \n",
              "min      2847.000000  \n",
              "25%      3027.000000  \n",
              "50%      3202.000000  \n",
              "75%      3376.000000  \n",
              "max      3546.000000  "
            ],
            "text/html": [
              "\n",
              "  <div id=\"df-5b0192a8-7889-4312-80d9-a72b9be77609\">\n",
              "    <div class=\"colab-df-container\">\n",
              "      <div>\n",
              "<style scoped>\n",
              "    .dataframe tbody tr th:only-of-type {\n",
              "        vertical-align: middle;\n",
              "    }\n",
              "\n",
              "    .dataframe tbody tr th {\n",
              "        vertical-align: top;\n",
              "    }\n",
              "\n",
              "    .dataframe thead th {\n",
              "        text-align: right;\n",
              "    }\n",
              "</style>\n",
              "<table border=\"1\" class=\"dataframe\">\n",
              "  <thead>\n",
              "    <tr style=\"text-align: right;\">\n",
              "      <th></th>\n",
              "      <th>Education</th>\n",
              "      <th>Marital_Status</th>\n",
              "      <th>Income</th>\n",
              "      <th>Recency</th>\n",
              "      <th>MntWines</th>\n",
              "      <th>MntFruits</th>\n",
              "      <th>MntMeatProducts</th>\n",
              "      <th>MntFishProducts</th>\n",
              "      <th>MntSweetProducts</th>\n",
              "      <th>MntGoldProds</th>\n",
              "      <th>NumDealsPurchases</th>\n",
              "      <th>NumWebPurchases</th>\n",
              "      <th>NumCatalogPurchases</th>\n",
              "      <th>NumStorePurchases</th>\n",
              "      <th>NumWebVisitsMonth</th>\n",
              "      <th>Age</th>\n",
              "      <th>ChildNum</th>\n",
              "      <th>Customer_days</th>\n",
              "    </tr>\n",
              "  </thead>\n",
              "  <tbody>\n",
              "    <tr>\n",
              "      <th>count</th>\n",
              "      <td>2215.000000</td>\n",
              "      <td>2215.000000</td>\n",
              "      <td>2215.000000</td>\n",
              "      <td>2215.000000</td>\n",
              "      <td>2215.000000</td>\n",
              "      <td>2215.000000</td>\n",
              "      <td>2215.000000</td>\n",
              "      <td>2215.000000</td>\n",
              "      <td>2215.000000</td>\n",
              "      <td>2215.000000</td>\n",
              "      <td>2215.000000</td>\n",
              "      <td>2215.000000</td>\n",
              "      <td>2215.000000</td>\n",
              "      <td>2215.000000</td>\n",
              "      <td>2215.000000</td>\n",
              "      <td>2215.000000</td>\n",
              "      <td>2215.000000</td>\n",
              "      <td>2215.000000</td>\n",
              "    </tr>\n",
              "    <tr>\n",
              "      <th>mean</th>\n",
              "      <td>1.689391</td>\n",
              "      <td>0.645147</td>\n",
              "      <td>51969.861400</td>\n",
              "      <td>49.024379</td>\n",
              "      <td>305.225282</td>\n",
              "      <td>26.361625</td>\n",
              "      <td>167.063205</td>\n",
              "      <td>37.651016</td>\n",
              "      <td>27.040632</td>\n",
              "      <td>43.979684</td>\n",
              "      <td>2.322799</td>\n",
              "      <td>4.085779</td>\n",
              "      <td>2.671783</td>\n",
              "      <td>5.802257</td>\n",
              "      <td>5.318736</td>\n",
              "      <td>53.183296</td>\n",
              "      <td>0.947178</td>\n",
              "      <td>3200.503837</td>\n",
              "    </tr>\n",
              "    <tr>\n",
              "      <th>std</th>\n",
              "      <td>0.805441</td>\n",
              "      <td>0.478577</td>\n",
              "      <td>21526.320095</td>\n",
              "      <td>28.949608</td>\n",
              "      <td>337.345380</td>\n",
              "      <td>39.802036</td>\n",
              "      <td>224.311559</td>\n",
              "      <td>54.760822</td>\n",
              "      <td>41.077594</td>\n",
              "      <td>51.822660</td>\n",
              "      <td>1.923820</td>\n",
              "      <td>2.741473</td>\n",
              "      <td>2.927179</td>\n",
              "      <td>3.250974</td>\n",
              "      <td>2.425863</td>\n",
              "      <td>11.987000</td>\n",
              "      <td>0.749230</td>\n",
              "      <td>202.478727</td>\n",
              "    </tr>\n",
              "    <tr>\n",
              "      <th>min</th>\n",
              "      <td>1.000000</td>\n",
              "      <td>0.000000</td>\n",
              "      <td>1730.000000</td>\n",
              "      <td>0.000000</td>\n",
              "      <td>0.000000</td>\n",
              "      <td>0.000000</td>\n",
              "      <td>0.000000</td>\n",
              "      <td>0.000000</td>\n",
              "      <td>0.000000</td>\n",
              "      <td>0.000000</td>\n",
              "      <td>0.000000</td>\n",
              "      <td>0.000000</td>\n",
              "      <td>0.000000</td>\n",
              "      <td>0.000000</td>\n",
              "      <td>0.000000</td>\n",
              "      <td>26.000000</td>\n",
              "      <td>0.000000</td>\n",
              "      <td>2847.000000</td>\n",
              "    </tr>\n",
              "    <tr>\n",
              "      <th>25%</th>\n",
              "      <td>1.000000</td>\n",
              "      <td>0.000000</td>\n",
              "      <td>35284.000000</td>\n",
              "      <td>24.000000</td>\n",
              "      <td>24.000000</td>\n",
              "      <td>2.000000</td>\n",
              "      <td>16.000000</td>\n",
              "      <td>3.000000</td>\n",
              "      <td>1.000000</td>\n",
              "      <td>9.000000</td>\n",
              "      <td>1.000000</td>\n",
              "      <td>2.000000</td>\n",
              "      <td>0.000000</td>\n",
              "      <td>3.000000</td>\n",
              "      <td>3.000000</td>\n",
              "      <td>45.000000</td>\n",
              "      <td>0.000000</td>\n",
              "      <td>3027.000000</td>\n",
              "    </tr>\n",
              "    <tr>\n",
              "      <th>50%</th>\n",
              "      <td>1.000000</td>\n",
              "      <td>1.000000</td>\n",
              "      <td>51373.000000</td>\n",
              "      <td>49.000000</td>\n",
              "      <td>175.000000</td>\n",
              "      <td>8.000000</td>\n",
              "      <td>68.000000</td>\n",
              "      <td>12.000000</td>\n",
              "      <td>8.000000</td>\n",
              "      <td>25.000000</td>\n",
              "      <td>2.000000</td>\n",
              "      <td>4.000000</td>\n",
              "      <td>2.000000</td>\n",
              "      <td>5.000000</td>\n",
              "      <td>6.000000</td>\n",
              "      <td>52.000000</td>\n",
              "      <td>1.000000</td>\n",
              "      <td>3202.000000</td>\n",
              "    </tr>\n",
              "    <tr>\n",
              "      <th>75%</th>\n",
              "      <td>2.000000</td>\n",
              "      <td>1.000000</td>\n",
              "      <td>68487.000000</td>\n",
              "      <td>74.000000</td>\n",
              "      <td>505.000000</td>\n",
              "      <td>33.000000</td>\n",
              "      <td>232.500000</td>\n",
              "      <td>50.000000</td>\n",
              "      <td>33.000000</td>\n",
              "      <td>56.000000</td>\n",
              "      <td>3.000000</td>\n",
              "      <td>6.000000</td>\n",
              "      <td>4.000000</td>\n",
              "      <td>8.000000</td>\n",
              "      <td>7.000000</td>\n",
              "      <td>63.000000</td>\n",
              "      <td>1.000000</td>\n",
              "      <td>3376.000000</td>\n",
              "    </tr>\n",
              "    <tr>\n",
              "      <th>max</th>\n",
              "      <td>3.000000</td>\n",
              "      <td>1.000000</td>\n",
              "      <td>162397.000000</td>\n",
              "      <td>99.000000</td>\n",
              "      <td>1493.000000</td>\n",
              "      <td>199.000000</td>\n",
              "      <td>1725.000000</td>\n",
              "      <td>259.000000</td>\n",
              "      <td>262.000000</td>\n",
              "      <td>321.000000</td>\n",
              "      <td>15.000000</td>\n",
              "      <td>27.000000</td>\n",
              "      <td>28.000000</td>\n",
              "      <td>13.000000</td>\n",
              "      <td>20.000000</td>\n",
              "      <td>129.000000</td>\n",
              "      <td>3.000000</td>\n",
              "      <td>3546.000000</td>\n",
              "    </tr>\n",
              "  </tbody>\n",
              "</table>\n",
              "</div>\n",
              "      <button class=\"colab-df-convert\" onclick=\"convertToInteractive('df-5b0192a8-7889-4312-80d9-a72b9be77609')\"\n",
              "              title=\"Convert this dataframe to an interactive table.\"\n",
              "              style=\"display:none;\">\n",
              "        \n",
              "  <svg xmlns=\"http://www.w3.org/2000/svg\" height=\"24px\"viewBox=\"0 0 24 24\"\n",
              "       width=\"24px\">\n",
              "    <path d=\"M0 0h24v24H0V0z\" fill=\"none\"/>\n",
              "    <path d=\"M18.56 5.44l.94 2.06.94-2.06 2.06-.94-2.06-.94-.94-2.06-.94 2.06-2.06.94zm-11 1L8.5 8.5l.94-2.06 2.06-.94-2.06-.94L8.5 2.5l-.94 2.06-2.06.94zm10 10l.94 2.06.94-2.06 2.06-.94-2.06-.94-.94-2.06-.94 2.06-2.06.94z\"/><path d=\"M17.41 7.96l-1.37-1.37c-.4-.4-.92-.59-1.43-.59-.52 0-1.04.2-1.43.59L10.3 9.45l-7.72 7.72c-.78.78-.78 2.05 0 2.83L4 21.41c.39.39.9.59 1.41.59.51 0 1.02-.2 1.41-.59l7.78-7.78 2.81-2.81c.8-.78.8-2.07 0-2.86zM5.41 20L4 18.59l7.72-7.72 1.47 1.35L5.41 20z\"/>\n",
              "  </svg>\n",
              "      </button>\n",
              "      \n",
              "  <style>\n",
              "    .colab-df-container {\n",
              "      display:flex;\n",
              "      flex-wrap:wrap;\n",
              "      gap: 12px;\n",
              "    }\n",
              "\n",
              "    .colab-df-convert {\n",
              "      background-color: #E8F0FE;\n",
              "      border: none;\n",
              "      border-radius: 50%;\n",
              "      cursor: pointer;\n",
              "      display: none;\n",
              "      fill: #1967D2;\n",
              "      height: 32px;\n",
              "      padding: 0 0 0 0;\n",
              "      width: 32px;\n",
              "    }\n",
              "\n",
              "    .colab-df-convert:hover {\n",
              "      background-color: #E2EBFA;\n",
              "      box-shadow: 0px 1px 2px rgba(60, 64, 67, 0.3), 0px 1px 3px 1px rgba(60, 64, 67, 0.15);\n",
              "      fill: #174EA6;\n",
              "    }\n",
              "\n",
              "    [theme=dark] .colab-df-convert {\n",
              "      background-color: #3B4455;\n",
              "      fill: #D2E3FC;\n",
              "    }\n",
              "\n",
              "    [theme=dark] .colab-df-convert:hover {\n",
              "      background-color: #434B5C;\n",
              "      box-shadow: 0px 1px 3px 1px rgba(0, 0, 0, 0.15);\n",
              "      filter: drop-shadow(0px 1px 2px rgba(0, 0, 0, 0.3));\n",
              "      fill: #FFFFFF;\n",
              "    }\n",
              "  </style>\n",
              "\n",
              "      <script>\n",
              "        const buttonEl =\n",
              "          document.querySelector('#df-5b0192a8-7889-4312-80d9-a72b9be77609 button.colab-df-convert');\n",
              "        buttonEl.style.display =\n",
              "          google.colab.kernel.accessAllowed ? 'block' : 'none';\n",
              "\n",
              "        async function convertToInteractive(key) {\n",
              "          const element = document.querySelector('#df-5b0192a8-7889-4312-80d9-a72b9be77609');\n",
              "          const dataTable =\n",
              "            await google.colab.kernel.invokeFunction('convertToInteractive',\n",
              "                                                     [key], {});\n",
              "          if (!dataTable) return;\n",
              "\n",
              "          const docLinkHtml = 'Like what you see? Visit the ' +\n",
              "            '<a target=\"_blank\" href=https://colab.research.google.com/notebooks/data_table.ipynb>data table notebook</a>'\n",
              "            + ' to learn more about interactive tables.';\n",
              "          element.innerHTML = '';\n",
              "          dataTable['output_type'] = 'display_data';\n",
              "          await google.colab.output.renderOutput(dataTable, element);\n",
              "          const docLink = document.createElement('div');\n",
              "          docLink.innerHTML = docLinkHtml;\n",
              "          element.appendChild(docLink);\n",
              "        }\n",
              "      </script>\n",
              "    </div>\n",
              "  </div>\n",
              "  "
            ]
          },
          "metadata": {},
          "execution_count": 17
        }
      ],
      "source": [
        "df.describe()"
      ]
    },
    {
      "cell_type": "code",
      "execution_count": 18,
      "metadata": {
        "id": "rwUTRxZ3t--5",
        "outputId": "6a20023c-d830-4f91-8820-51b245b0bc48",
        "colab": {
          "base_uri": "https://localhost:8080/",
          "height": 661
        }
      },
      "outputs": [
        {
          "output_type": "execute_result",
          "data": {
            "text/plain": [
              "<matplotlib.axes._subplots.AxesSubplot at 0x7f56ec594210>"
            ]
          },
          "metadata": {},
          "execution_count": 18
        },
        {
          "output_type": "display_data",
          "data": {
            "text/plain": [
              "<Figure size 648x648 with 2 Axes>"
            ],
            "image/png": "[encoded data removed]"
          },
          "metadata": {
            "needs_background": "light"
          }
        }
      ],
      "source": [
        "plt.figure(figsize=(9,9))\n",
        "sns.heatmap(df.corr())"
      ]
    },
    {
      "cell_type": "code",
      "execution_count": 21,
      "metadata": {
        "id": "yQIAGlS8t--6"
      },
      "outputs": [],
      "source": [
        "# data preprocessing\n",
        "dc=df.copy()\n",
        "standard_scaler=StandardScaler()\n",
        "dc=pd.DataFrame(standard_scaler.fit_transform(dc),columns=df.columns)"
      ]
    },
    {
      "cell_type": "code",
      "execution_count": 48,
      "metadata": {
        "id": "bsfhAs7ct--7",
        "outputId": "d55d652b-9b1b-4dc5-9edd-42d6ce3f446d",
        "colab": {
          "base_uri": "https://localhost:8080/"
        }
      },
      "outputs": [
        {
          "output_type": "execute_result",
          "data": {
            "text/plain": [
              "(2215, 18)"
            ]
          },
          "metadata": {},
          "execution_count": 48
        }
      ],
      "source": [
        "dc.shape"
      ]
    },
    {
      "cell_type": "markdown",
      "metadata": {
        "id": "bz3vz-nbt--7"
      },
      "source": [
        "# Dimensionality Reduction"
      ]
    },
    {
      "cell_type": "code",
      "execution_count": 23,
      "metadata": {
        "id": "A1XZ-BuTt--8",
        "outputId": "282bb78b-a48c-4235-9bd3-1c4a9a06865d",
        "colab": {
          "base_uri": "https://localhost:8080/",
          "height": 402
        }
      },
      "outputs": [
        {
          "output_type": "stream",
          "name": "stdout",
          "text": [
            "[0.34219582 0.44791398 0.52587727 0.58250723 0.63838967 0.69221885\n",
            " 0.73758106 0.77757018 0.81526431 0.84952784 0.87696663 0.90115586\n",
            " 0.92472447 0.94647112 0.96459787 0.97824186 0.99088254 1.        ]\n"
          ]
        },
        {
          "output_type": "execute_result",
          "data": {
            "text/plain": [
              "Text(0, 0.5, 'Cumulative Proportion of Variance')"
            ]
          },
          "metadata": {},
          "execution_count": 23
        },
        {
          "output_type": "display_data",
          "data": {
            "text/plain": [
              "<Figure size 360x360 with 1 Axes>"
            ],
            "image/png": "[encoded data removed]"
          },
          "metadata": {
            "needs_background": "light"
          }
        }
      ],
      "source": [
        "pca=PCA().fit(dc)\n",
        "plt.figure(figsize=(5,5))\n",
        "x_components=np.arange(1,19,step=1)\n",
        "y_cumu_var=np.cumsum(pca.explained_variance_ratio_)\n",
        "z_var_ratio=pca.explained_variance_ratio_\n",
        "var_comp=pca.explained_variance_\n",
        "print(y_cumu_var)\n",
        "plt.plot(x_components,y_cumu_var,marker='o')\n",
        "plt.xlabel('Principal Component')\n",
        "plt.ylabel('Cumulative Proportion of Variance')"
      ]
    },
    {
      "cell_type": "code",
      "execution_count": 24,
      "metadata": {
        "id": "C1BmNYl4t--9",
        "outputId": "b4cb8bff-63e3-4558-b322-bb0c2785471f",
        "colab": {
          "base_uri": "https://localhost:8080/",
          "height": 296
        }
      },
      "outputs": [
        {
          "output_type": "execute_result",
          "data": {
            "text/plain": [
              "Text(0, 0.5, 'Proportion of Variance')"
            ]
          },
          "metadata": {},
          "execution_count": 24
        },
        {
          "output_type": "display_data",
          "data": {
            "text/plain": [
              "<Figure size 432x288 with 1 Axes>"
            ],
            "image/png": "[encoded data removed]"
          },
          "metadata": {
            "needs_background": "light"
          }
        }
      ],
      "source": [
        "plt.plot(x_components,z_var_ratio,marker='o')\n",
        "plt.xlabel('Principal Component')\n",
        "plt.ylabel('Proportion of Variance')"
      ]
    },
    {
      "cell_type": "code",
      "execution_count": 25,
      "metadata": {
        "id": "joT_m2u1t--9",
        "outputId": "d078421f-c2b8-4c94-ff2f-3047d84091e4",
        "colab": {
          "base_uri": "https://localhost:8080/",
          "height": 296
        }
      },
      "outputs": [
        {
          "output_type": "execute_result",
          "data": {
            "text/plain": [
              "Text(0, 0.5, 'Variance')"
            ]
          },
          "metadata": {},
          "execution_count": 25
        },
        {
          "output_type": "display_data",
          "data": {
            "text/plain": [
              "<Figure size 432x288 with 1 Axes>"
            ],
            "image/png": "[encoded data removed]"
          },
          "metadata": {
            "needs_background": "light"
          }
        }
      ],
      "source": [
        "plt.plot(x_components,var_comp,marker='o')\n",
        "plt.axhline(y=1,color='red',label='Kaiser\\'rule variance = 1')\n",
        "plt.legend()\n",
        "plt.xlabel('Principal Component')\n",
        "plt.ylabel('Variance')"
      ]
    },
    {
      "cell_type": "code",
      "execution_count": 52,
      "metadata": {
        "id": "eh3tzmidt---",
        "outputId": "9b73c4db-17c0-4ce9-d3e9-655f93a01f4e",
        "colab": {
          "base_uri": "https://localhost:8080/"
        }
      },
      "outputs": [
        {
          "output_type": "execute_result",
          "data": {
            "text/plain": [
              "[6.162306784851124,\n",
              " 1.9037863597750435,\n",
              " 1.403973150559795,\n",
              " 1.0197996637577917,\n",
              " 1.0063383017257992]"
            ]
          },
          "metadata": {},
          "execution_count": 52
        }
      ],
      "source": [
        "# find the number of components that is greater than 1\n",
        "[p for p in var_comp if p >1]"
      ]
    },
    {
      "cell_type": "code",
      "execution_count": 53,
      "metadata": {
        "id": "QNpe8Gd0t---",
        "outputId": "713b8262-0162-4dac-f399-f9b71be74349",
        "colab": {
          "base_uri": "https://localhost:8080/"
        }
      },
      "outputs": [
        {
          "output_type": "stream",
          "name": "stdout",
          "text": [
            "[[-0.00259677 -0.00927448  0.34146587  0.00633206  0.30187915  0.28691345\n",
            "   0.3293324   0.29701946  0.28665118  0.23240715 -0.05636668  0.2176632\n",
            "   0.33035646  0.29790809 -0.26238872  0.05494838 -0.23467549  0.03970704]\n",
            " [ 0.09388427  0.029671    0.01102788  0.01396249  0.21491957 -0.08112446\n",
            "  -0.07512529 -0.08775383 -0.06496433  0.16031894  0.55923249  0.41478488\n",
            "   0.03819504  0.17430592  0.34204209  0.16555604  0.30012953  0.37794433]\n",
            " [-0.55951589 -0.06097486 -0.23399057  0.02613173 -0.16647146  0.19611265\n",
            "   0.01564174  0.1937527   0.18079306  0.22158341  0.0360748  -0.01771777\n",
            "  -0.06488075 -0.09129493  0.23935007 -0.45445369 -0.14013427  0.38004307]\n",
            " [-0.32609465  0.41680352  0.03976251  0.71742234 -0.11869763  0.0354134\n",
            "  -0.02967733  0.05160035  0.07301501  0.07887781  0.11069292 -0.04929476\n",
            "  -0.00253216 -0.01148923 -0.13570193  0.23059498  0.23003055 -0.18411227]\n",
            " [ 0.09053111 -0.80587939 -0.01375842  0.5486211   0.03707791 -0.04281508\n",
            "   0.0244084  -0.03684952 -0.02785716  0.00201777 -0.06645719 -0.03509076\n",
            "   0.0215533  -0.04761744  0.02299554  0.1037996  -0.05237333  0.11322747]]\n"
          ]
        }
      ],
      "source": [
        "# find the most important features\n",
        "pca=PCA(n_components=5)\n",
        "pca.fit(dc)\n",
        "print(pca.components_)"
      ]
    },
    {
      "cell_type": "markdown",
      "metadata": {
        "id": "PsPl18CAt--_"
      },
      "source": [
        "From the above eigenvectors , we can see the top 3 important features\n",
        "    important feature1    important feature2    important feature3\n",
        "pc1: income            NumCatalogPurchase     MntMeatProducts \n",
        "    0.34146583         0.33035639           0.3293325\n",
        "pc2: NumDealsPurchases    NumWebPurchases       Customer_days\n",
        "    0.55912618         0.41462808           0.37788749\n",
        "pc3: Education          Age               Customer_days\n",
        "    -0.559422          -0.45443661          0.38013223\n",
        "pc4: Recency           Marital_Status        Education\n",
        "    0.71930882         0.4137333            -0.32533483\n",
        "pc5: Marital_Status      Recency             Customer_days\n",
        "    -0.80706347        0.54623938           0.11342487"
      ]
    },
    {
      "cell_type": "code",
      "execution_count": 44,
      "metadata": {
        "id": "_MFsKKuct--_",
        "outputId": "e5f12935-9eda-48c7-9d47-733257f0c70c",
        "colab": {
          "base_uri": "https://localhost:8080/",
          "height": 673
        }
      },
      "outputs": [
        {
          "output_type": "stream",
          "name": "stdout",
          "text": [
            "[0.34219582 0.10571816 0.07796322 0.0566296  0.05587906]\n",
            "2\n",
            "3\n",
            "4\n",
            "5\n",
            "6\n",
            "7\n",
            "8\n",
            "9\n",
            "10\n",
            "11\n",
            "12\n",
            "13\n",
            "14\n",
            "15\n",
            "16\n",
            "17\n",
            "18\n",
            "19\n"
          ]
        },
        {
          "output_type": "display_data",
          "data": {
            "text/plain": [
              "<Figure size 360x360 with 1 Axes>"
            ],
            "image/png": "[encoded data removed]"
          },
          "metadata": {
            "needs_background": "light"
          }
        }
      ],
      "source": [
        "def pca_cal(num,data):\n",
        "    pca=PCA(n_components=num)\n",
        "    pca.fit(data)\n",
        "    print(pca.explained_variance_ratio_)\n",
        "    dc_pca=pd.DataFrame(pca.transform(data))\n",
        "    distortions=kmeans_cal(dc_pca)\n",
        "    return distortions\n",
        "def kmeans_cal(matrix): \n",
        "    distortions=[]\n",
        "    K=range(2,20)\n",
        "    sil_score=[]\n",
        "    db_score=[]\n",
        "    for k in K:\n",
        "        print(k)\n",
        "        kmeanModel=KMeans(n_clusters=k)\n",
        "        kmeanModel.fit(matrix)\n",
        "        distortions.append(kmeanModel.inertia_)\n",
        "        pred_df=pd.DataFrame(matrix)\n",
        "        sil_score.append(silhouette_score(X=pred_df,labels=kmeanModel.labels_))\n",
        "        db_score.append(davies_bouldin_score(X=pred_df,labels=kmeanModel.labels_))\n",
        "    return distortions,sil_score,db_score\n",
        "K=range(2,20)\n",
        "distortions,_,_=pca_cal(5,dc)\n",
        "plt.figure(figsize=(5,5))\n",
        "plt.plot(K,distortions,'bx-')\n",
        "plt.xlabel('k')\n",
        "plt.ylabel('Distortion')\n",
        "plt.title('The Elbow Method showing the optimal k')\n",
        "plt.show()"
      ]
    },
    {
      "cell_type": "code",
      "execution_count": 33,
      "metadata": {
        "id": "15KYVPRct--_",
        "outputId": "ffc9f58a-858f-4f96-aaec-f32f0af489bf",
        "colab": {
          "base_uri": "https://localhost:8080/",
          "height": 673
        }
      },
      "outputs": [
        {
          "output_type": "stream",
          "name": "stdout",
          "text": [
            "1\n",
            "2\n",
            "3\n",
            "4\n",
            "5\n",
            "6\n",
            "7\n",
            "8\n",
            "9\n",
            "10\n",
            "11\n",
            "12\n",
            "13\n",
            "14\n",
            "15\n",
            "16\n",
            "17\n",
            "18\n",
            "19\n"
          ]
        },
        {
          "output_type": "display_data",
          "data": {
            "text/plain": [
              "<Figure size 360x360 with 1 Axes>"
            ],
            "image/png": "[encoded data removed]"
          },
          "metadata": {
            "needs_background": "light"
          }
        }
      ],
      "source": [
        "# The original dataset in K-means\n",
        "distortions=kmeans_cal(dc)\n",
        "plt.figure(figsize=(5,5))\n",
        "plt.plot(K,distortions,'bx-')\n",
        "plt.xlabel('k')\n",
        "plt.ylabel('Distortion')\n",
        "plt.title('The Elbow Method for PCA')\n",
        "plt.show()"
      ]
    },
    {
      "cell_type": "code",
      "source": [
        "# This part of code is inspired by keras documentation about autoencoder\n",
        "# This is the size of our encoded representations\n",
        "def construct_autoencoder(num,input):\n",
        "  encoding_dim = num  \n",
        "  input_img = keras.Input(shape=(18,))\n",
        "  encoded = layers.Dense(10, activation='relu')(input_img)\n",
        "  encoded = layers.Dense(num, activation='relu')(encoded)\n",
        "  encoder = keras.Model(input_img, encoded)\n",
        "  decoded = layers.Dense(10, activation='relu')(encoded)\n",
        "  decoded = layers.Dense(18, activation='sigmoid')(decoded)\n",
        "\n",
        "# This model maps an input to its reconstruction\n",
        "  autoencoder = keras.Model(input_img, decoded)\n",
        "# This model maps an input to its encoded representation\n",
        "  autoencoder.compile(optimizer='Adam', loss='mean_squared_error')\n",
        "  autoencoder.fit(input, input,\n",
        "                epochs=500,\n",
        "                batch_size=256,\n",
        "                shuffle=True)\n",
        "  pred_matrix=encoder.predict(input)\n",
        "  return pred_matrix\n",
        "pred_matrix=construct_autoencoder(5,dc)"
      ],
      "metadata": {
        "colab": {
          "base_uri": "https://localhost:8080/"
        },
        "id": "z12qiskJ0pok",
        "outputId": "63ce70bb-ec69-45ae-dae4-7eab4b032bae"
      },
      "execution_count": 34,
      "outputs": [
        {
          "output_type": "stream",
          "name": "stdout",
          "text": [
            "Epoch 1/500\n",
            "9/9 [==============================] - 1s 4ms/step - loss: 1.2428\n",
            "Epoch 2/500\n",
            "9/9 [==============================] - 0s 4ms/step - loss: 1.2353\n",
            "Epoch 3/500\n",
            "9/9 [==============================] - 0s 4ms/step - loss: 1.2266\n",
            "Epoch 4/500\n",
            "9/9 [==============================] - 0s 4ms/step - loss: 1.2159\n",
            "Epoch 5/500\n",
            "9/9 [==============================] - 0s 7ms/step - loss: 1.2018\n",
            "Epoch 6/500\n",
            "9/9 [==============================] - 0s 4ms/step - loss: 1.1833\n",
            "Epoch 7/500\n",
            "9/9 [==============================] - 0s 4ms/step - loss: 1.1597\n",
            "Epoch 8/500\n",
            "9/9 [==============================] - 0s 4ms/step - loss: 1.1309\n",
            "Epoch 9/500\n",
            "9/9 [==============================] - 0s 4ms/step - loss: 1.0981\n",
            "Epoch 10/500\n",
            "9/9 [==============================] - 0s 4ms/step - loss: 1.0631\n",
            "Epoch 11/500\n",
            "9/9 [==============================] - 0s 4ms/step - loss: 1.0283\n",
            "Epoch 12/500\n",
            "9/9 [==============================] - 0s 4ms/step - loss: 0.9960\n",
            "Epoch 13/500\n",
            "9/9 [==============================] - 0s 4ms/step - loss: 0.9677\n",
            "Epoch 14/500\n",
            "9/9 [==============================] - 0s 4ms/step - loss: 0.9444\n",
            "Epoch 15/500\n",
            "9/9 [==============================] - 0s 4ms/step - loss: 0.9254\n",
            "Epoch 16/500\n",
            "9/9 [==============================] - 0s 4ms/step - loss: 0.9099\n",
            "Epoch 17/500\n",
            "9/9 [==============================] - 0s 4ms/step - loss: 0.8971\n",
            "Epoch 18/500\n",
            "9/9 [==============================] - 0s 5ms/step - loss: 0.8860\n",
            "Epoch 19/500\n",
            "9/9 [==============================] - 0s 6ms/step - loss: 0.8762\n",
            "Epoch 20/500\n",
            "9/9 [==============================] - 0s 5ms/step - loss: 0.8675\n",
            "Epoch 21/500\n",
            "9/9 [==============================] - 0s 7ms/step - loss: 0.8595\n",
            "Epoch 22/500\n",
            "9/9 [==============================] - 0s 4ms/step - loss: 0.8521\n",
            "Epoch 23/500\n",
            "9/9 [==============================] - 0s 4ms/step - loss: 0.8454\n",
            "Epoch 24/500\n",
            "9/9 [==============================] - 0s 4ms/step - loss: 0.8392\n",
            "Epoch 25/500\n",
            "9/9 [==============================] - 0s 4ms/step - loss: 0.8333\n",
            "Epoch 26/500\n",
            "9/9 [==============================] - 0s 6ms/step - loss: 0.8281\n",
            "Epoch 27/500\n",
            "9/9 [==============================] - 0s 6ms/step - loss: 0.8234\n",
            "Epoch 28/500\n",
            "9/9 [==============================] - 0s 4ms/step - loss: 0.8193\n",
            "Epoch 29/500\n",
            "9/9 [==============================] - 0s 4ms/step - loss: 0.8156\n",
            "Epoch 30/500\n",
            "9/9 [==============================] - 0s 4ms/step - loss: 0.8122\n",
            "Epoch 31/500\n",
            "9/9 [==============================] - 0s 4ms/step - loss: 0.8090\n",
            "Epoch 32/500\n",
            "9/9 [==============================] - 0s 4ms/step - loss: 0.8060\n",
            "Epoch 33/500\n",
            "9/9 [==============================] - 0s 5ms/step - loss: 0.8029\n",
            "Epoch 34/500\n",
            "9/9 [==============================] - 0s 4ms/step - loss: 0.7998\n",
            "Epoch 35/500\n",
            "9/9 [==============================] - 0s 4ms/step - loss: 0.7968\n",
            "Epoch 36/500\n",
            "9/9 [==============================] - 0s 4ms/step - loss: 0.7943\n",
            "Epoch 37/500\n",
            "9/9 [==============================] - 0s 5ms/step - loss: 0.7922\n",
            "Epoch 38/500\n",
            "9/9 [==============================] - 0s 4ms/step - loss: 0.7902\n",
            "Epoch 39/500\n",
            "9/9 [==============================] - 0s 4ms/step - loss: 0.7884\n",
            "Epoch 40/500\n",
            "9/9 [==============================] - 0s 4ms/step - loss: 0.7865\n",
            "Epoch 41/500\n",
            "9/9 [==============================] - 0s 5ms/step - loss: 0.7847\n",
            "Epoch 42/500\n",
            "9/9 [==============================] - 0s 5ms/step - loss: 0.7829\n",
            "Epoch 43/500\n",
            "9/9 [==============================] - 0s 5ms/step - loss: 0.7811\n",
            "Epoch 44/500\n",
            "9/9 [==============================] - 0s 4ms/step - loss: 0.7792\n",
            "Epoch 45/500\n",
            "9/9 [==============================] - 0s 4ms/step - loss: 0.7774\n",
            "Epoch 46/500\n",
            "9/9 [==============================] - 0s 3ms/step - loss: 0.7755\n",
            "Epoch 47/500\n",
            "9/9 [==============================] - 0s 4ms/step - loss: 0.7736\n",
            "Epoch 48/500\n",
            "9/9 [==============================] - 0s 4ms/step - loss: 0.7716\n",
            "Epoch 49/500\n",
            "9/9 [==============================] - 0s 4ms/step - loss: 0.7697\n",
            "Epoch 50/500\n",
            "9/9 [==============================] - 0s 4ms/step - loss: 0.7677\n",
            "Epoch 51/500\n",
            "9/9 [==============================] - 0s 4ms/step - loss: 0.7658\n",
            "Epoch 52/500\n",
            "9/9 [==============================] - 0s 4ms/step - loss: 0.7638\n",
            "Epoch 53/500\n",
            "9/9 [==============================] - 0s 5ms/step - loss: 0.7618\n",
            "Epoch 54/500\n",
            "9/9 [==============================] - 0s 3ms/step - loss: 0.7598\n",
            "Epoch 55/500\n",
            "9/9 [==============================] - 0s 5ms/step - loss: 0.7578\n",
            "Epoch 56/500\n",
            "9/9 [==============================] - 0s 4ms/step - loss: 0.7559\n",
            "Epoch 57/500\n",
            "9/9 [==============================] - 0s 3ms/step - loss: 0.7540\n",
            "Epoch 58/500\n",
            "9/9 [==============================] - 0s 3ms/step - loss: 0.7522\n",
            "Epoch 59/500\n",
            "9/9 [==============================] - 0s 4ms/step - loss: 0.7504\n",
            "Epoch 60/500\n",
            "9/9 [==============================] - 0s 5ms/step - loss: 0.7489\n",
            "Epoch 61/500\n",
            "9/9 [==============================] - 0s 4ms/step - loss: 0.7473\n",
            "Epoch 62/500\n",
            "9/9 [==============================] - 0s 4ms/step - loss: 0.7459\n",
            "Epoch 63/500\n",
            "9/9 [==============================] - 0s 4ms/step - loss: 0.7445\n",
            "Epoch 64/500\n",
            "9/9 [==============================] - 0s 3ms/step - loss: 0.7433\n",
            "Epoch 65/500\n",
            "9/9 [==============================] - 0s 6ms/step - loss: 0.7421\n",
            "Epoch 66/500\n",
            "9/9 [==============================] - 0s 4ms/step - loss: 0.7409\n",
            "Epoch 67/500\n",
            "9/9 [==============================] - 0s 4ms/step - loss: 0.7398\n",
            "Epoch 68/500\n",
            "9/9 [==============================] - 0s 4ms/step - loss: 0.7387\n",
            "Epoch 69/500\n",
            "9/9 [==============================] - 0s 4ms/step - loss: 0.7377\n",
            "Epoch 70/500\n",
            "9/9 [==============================] - 0s 5ms/step - loss: 0.7366\n",
            "Epoch 71/500\n",
            "9/9 [==============================] - 0s 4ms/step - loss: 0.7357\n",
            "Epoch 72/500\n",
            "9/9 [==============================] - 0s 5ms/step - loss: 0.7348\n",
            "Epoch 73/500\n",
            "9/9 [==============================] - 0s 4ms/step - loss: 0.7339\n",
            "Epoch 74/500\n",
            "9/9 [==============================] - 0s 4ms/step - loss: 0.7330\n",
            "Epoch 75/500\n",
            "9/9 [==============================] - 0s 4ms/step - loss: 0.7321\n",
            "Epoch 76/500\n",
            "9/9 [==============================] - 0s 5ms/step - loss: 0.7312\n",
            "Epoch 77/500\n",
            "9/9 [==============================] - 0s 4ms/step - loss: 0.7304\n",
            "Epoch 78/500\n",
            "9/9 [==============================] - 0s 4ms/step - loss: 0.7295\n",
            "Epoch 79/500\n",
            "9/9 [==============================] - 0s 4ms/step - loss: 0.7286\n",
            "Epoch 80/500\n",
            "9/9 [==============================] - 0s 4ms/step - loss: 0.7277\n",
            "Epoch 81/500\n",
            "9/9 [==============================] - 0s 5ms/step - loss: 0.7268\n",
            "Epoch 82/500\n",
            "9/9 [==============================] - 0s 5ms/step - loss: 0.7259\n",
            "Epoch 83/500\n",
            "9/9 [==============================] - 0s 5ms/step - loss: 0.7250\n",
            "Epoch 84/500\n",
            "9/9 [==============================] - 0s 5ms/step - loss: 0.7243\n",
            "Epoch 85/500\n",
            "9/9 [==============================] - 0s 5ms/step - loss: 0.7234\n",
            "Epoch 86/500\n",
            "9/9 [==============================] - 0s 6ms/step - loss: 0.7227\n",
            "Epoch 87/500\n",
            "9/9 [==============================] - 0s 4ms/step - loss: 0.7218\n",
            "Epoch 88/500\n",
            "9/9 [==============================] - 0s 4ms/step - loss: 0.7210\n",
            "Epoch 89/500\n",
            "9/9 [==============================] - 0s 4ms/step - loss: 0.7202\n",
            "Epoch 90/500\n",
            "9/9 [==============================] - 0s 4ms/step - loss: 0.7194\n",
            "Epoch 91/500\n",
            "9/9 [==============================] - 0s 5ms/step - loss: 0.7186\n",
            "Epoch 92/500\n",
            "9/9 [==============================] - 0s 4ms/step - loss: 0.7178\n",
            "Epoch 93/500\n",
            "9/9 [==============================] - 0s 4ms/step - loss: 0.7170\n",
            "Epoch 94/500\n",
            "9/9 [==============================] - 0s 4ms/step - loss: 0.7162\n",
            "Epoch 95/500\n",
            "9/9 [==============================] - 0s 4ms/step - loss: 0.7154\n",
            "Epoch 96/500\n",
            "9/9 [==============================] - 0s 4ms/step - loss: 0.7145\n",
            "Epoch 97/500\n",
            "9/9 [==============================] - 0s 4ms/step - loss: 0.7138\n",
            "Epoch 98/500\n",
            "9/9 [==============================] - 0s 4ms/step - loss: 0.7130\n",
            "Epoch 99/500\n",
            "9/9 [==============================] - 0s 4ms/step - loss: 0.7121\n",
            "Epoch 100/500\n",
            "9/9 [==============================] - 0s 4ms/step - loss: 0.7113\n",
            "Epoch 101/500\n",
            "9/9 [==============================] - 0s 5ms/step - loss: 0.7105\n",
            "Epoch 102/500\n",
            "9/9 [==============================] - 0s 5ms/step - loss: 0.7098\n",
            "Epoch 103/500\n",
            "9/9 [==============================] - 0s 4ms/step - loss: 0.7089\n",
            "Epoch 104/500\n",
            "9/9 [==============================] - 0s 4ms/step - loss: 0.7082\n",
            "Epoch 105/500\n",
            "9/9 [==============================] - 0s 4ms/step - loss: 0.7075\n",
            "Epoch 106/500\n",
            "9/9 [==============================] - 0s 7ms/step - loss: 0.7067\n",
            "Epoch 107/500\n",
            "9/9 [==============================] - 0s 5ms/step - loss: 0.7060\n",
            "Epoch 108/500\n",
            "9/9 [==============================] - 0s 4ms/step - loss: 0.7053\n",
            "Epoch 109/500\n",
            "9/9 [==============================] - 0s 5ms/step - loss: 0.7046\n",
            "Epoch 110/500\n",
            "9/9 [==============================] - 0s 4ms/step - loss: 0.7039\n",
            "Epoch 111/500\n",
            "9/9 [==============================] - 0s 4ms/step - loss: 0.7033\n",
            "Epoch 112/500\n",
            "9/9 [==============================] - 0s 4ms/step - loss: 0.7027\n",
            "Epoch 113/500\n",
            "9/9 [==============================] - 0s 4ms/step - loss: 0.7021\n",
            "Epoch 114/500\n",
            "9/9 [==============================] - 0s 3ms/step - loss: 0.7015\n",
            "Epoch 115/500\n",
            "9/9 [==============================] - 0s 4ms/step - loss: 0.7010\n",
            "Epoch 116/500\n",
            "9/9 [==============================] - 0s 4ms/step - loss: 0.7005\n",
            "Epoch 117/500\n",
            "9/9 [==============================] - 0s 4ms/step - loss: 0.7000\n",
            "Epoch 118/500\n",
            "9/9 [==============================] - 0s 4ms/step - loss: 0.6995\n",
            "Epoch 119/500\n",
            "9/9 [==============================] - 0s 5ms/step - loss: 0.6990\n",
            "Epoch 120/500\n",
            "9/9 [==============================] - 0s 3ms/step - loss: 0.6986\n",
            "Epoch 121/500\n",
            "9/9 [==============================] - 0s 4ms/step - loss: 0.6981\n",
            "Epoch 122/500\n",
            "9/9 [==============================] - 0s 6ms/step - loss: 0.6977\n",
            "Epoch 123/500\n",
            "9/9 [==============================] - 0s 4ms/step - loss: 0.6973\n",
            "Epoch 124/500\n",
            "9/9 [==============================] - 0s 4ms/step - loss: 0.6969\n",
            "Epoch 125/500\n",
            "9/9 [==============================] - 0s 4ms/step - loss: 0.6965\n",
            "Epoch 126/500\n",
            "9/9 [==============================] - 0s 5ms/step - loss: 0.6962\n",
            "Epoch 127/500\n",
            "9/9 [==============================] - 0s 7ms/step - loss: 0.6959\n",
            "Epoch 128/500\n",
            "9/9 [==============================] - 0s 5ms/step - loss: 0.6956\n",
            "Epoch 129/500\n",
            "9/9 [==============================] - 0s 4ms/step - loss: 0.6952\n",
            "Epoch 130/500\n",
            "9/9 [==============================] - 0s 4ms/step - loss: 0.6949\n",
            "Epoch 131/500\n",
            "9/9 [==============================] - 0s 4ms/step - loss: 0.6946\n",
            "Epoch 132/500\n",
            "9/9 [==============================] - 0s 3ms/step - loss: 0.6943\n",
            "Epoch 133/500\n",
            "9/9 [==============================] - 0s 3ms/step - loss: 0.6940\n",
            "Epoch 134/500\n",
            "9/9 [==============================] - 0s 3ms/step - loss: 0.6938\n",
            "Epoch 135/500\n",
            "9/9 [==============================] - 0s 3ms/step - loss: 0.6936\n",
            "Epoch 136/500\n",
            "9/9 [==============================] - 0s 3ms/step - loss: 0.6932\n",
            "Epoch 137/500\n",
            "9/9 [==============================] - 0s 3ms/step - loss: 0.6929\n",
            "Epoch 138/500\n",
            "9/9 [==============================] - 0s 3ms/step - loss: 0.6927\n",
            "Epoch 139/500\n",
            "9/9 [==============================] - 0s 3ms/step - loss: 0.6924\n",
            "Epoch 140/500\n",
            "9/9 [==============================] - 0s 3ms/step - loss: 0.6921\n",
            "Epoch 141/500\n",
            "9/9 [==============================] - 0s 3ms/step - loss: 0.6919\n",
            "Epoch 142/500\n",
            "9/9 [==============================] - 0s 3ms/step - loss: 0.6916\n",
            "Epoch 143/500\n",
            "9/9 [==============================] - 0s 3ms/step - loss: 0.6914\n",
            "Epoch 144/500\n",
            "9/9 [==============================] - 0s 4ms/step - loss: 0.6911\n",
            "Epoch 145/500\n",
            "9/9 [==============================] - 0s 4ms/step - loss: 0.6909\n",
            "Epoch 146/500\n",
            "9/9 [==============================] - 0s 4ms/step - loss: 0.6906\n",
            "Epoch 147/500\n",
            "9/9 [==============================] - 0s 3ms/step - loss: 0.6903\n",
            "Epoch 148/500\n",
            "9/9 [==============================] - 0s 4ms/step - loss: 0.6901\n",
            "Epoch 149/500\n",
            "9/9 [==============================] - 0s 3ms/step - loss: 0.6898\n",
            "Epoch 150/500\n",
            "9/9 [==============================] - 0s 3ms/step - loss: 0.6895\n",
            "Epoch 151/500\n",
            "9/9 [==============================] - 0s 3ms/step - loss: 0.6892\n",
            "Epoch 152/500\n",
            "9/9 [==============================] - 0s 4ms/step - loss: 0.6888\n",
            "Epoch 153/500\n",
            "9/9 [==============================] - 0s 3ms/step - loss: 0.6885\n",
            "Epoch 154/500\n",
            "9/9 [==============================] - 0s 3ms/step - loss: 0.6880\n",
            "Epoch 155/500\n",
            "9/9 [==============================] - 0s 3ms/step - loss: 0.6876\n",
            "Epoch 156/500\n",
            "9/9 [==============================] - 0s 3ms/step - loss: 0.6872\n",
            "Epoch 157/500\n",
            "9/9 [==============================] - 0s 3ms/step - loss: 0.6867\n",
            "Epoch 158/500\n",
            "9/9 [==============================] - 0s 3ms/step - loss: 0.6862\n",
            "Epoch 159/500\n",
            "9/9 [==============================] - 0s 3ms/step - loss: 0.6858\n",
            "Epoch 160/500\n",
            "9/9 [==============================] - 0s 3ms/step - loss: 0.6853\n",
            "Epoch 161/500\n",
            "9/9 [==============================] - 0s 3ms/step - loss: 0.6849\n",
            "Epoch 162/500\n",
            "9/9 [==============================] - 0s 3ms/step - loss: 0.6845\n",
            "Epoch 163/500\n",
            "9/9 [==============================] - 0s 3ms/step - loss: 0.6841\n",
            "Epoch 164/500\n",
            "9/9 [==============================] - 0s 3ms/step - loss: 0.6837\n",
            "Epoch 165/500\n",
            "9/9 [==============================] - 0s 3ms/step - loss: 0.6833\n",
            "Epoch 166/500\n",
            "9/9 [==============================] - 0s 3ms/step - loss: 0.6829\n",
            "Epoch 167/500\n",
            "9/9 [==============================] - 0s 3ms/step - loss: 0.6826\n",
            "Epoch 168/500\n",
            "9/9 [==============================] - 0s 3ms/step - loss: 0.6822\n",
            "Epoch 169/500\n",
            "9/9 [==============================] - 0s 4ms/step - loss: 0.6819\n",
            "Epoch 170/500\n",
            "9/9 [==============================] - 0s 3ms/step - loss: 0.6816\n",
            "Epoch 171/500\n",
            "9/9 [==============================] - 0s 3ms/step - loss: 0.6813\n",
            "Epoch 172/500\n",
            "9/9 [==============================] - 0s 3ms/step - loss: 0.6810\n",
            "Epoch 173/500\n",
            "9/9 [==============================] - 0s 3ms/step - loss: 0.6807\n",
            "Epoch 174/500\n",
            "9/9 [==============================] - 0s 3ms/step - loss: 0.6803\n",
            "Epoch 175/500\n",
            "9/9 [==============================] - 0s 3ms/step - loss: 0.6802\n",
            "Epoch 176/500\n",
            "9/9 [==============================] - 0s 3ms/step - loss: 0.6798\n",
            "Epoch 177/500\n",
            "9/9 [==============================] - 0s 3ms/step - loss: 0.6795\n",
            "Epoch 178/500\n",
            "9/9 [==============================] - 0s 3ms/step - loss: 0.6793\n",
            "Epoch 179/500\n",
            "9/9 [==============================] - 0s 3ms/step - loss: 0.6791\n",
            "Epoch 180/500\n",
            "9/9 [==============================] - 0s 4ms/step - loss: 0.6788\n",
            "Epoch 181/500\n",
            "9/9 [==============================] - 0s 3ms/step - loss: 0.6786\n",
            "Epoch 182/500\n",
            "9/9 [==============================] - 0s 3ms/step - loss: 0.6784\n",
            "Epoch 183/500\n",
            "9/9 [==============================] - 0s 3ms/step - loss: 0.6781\n",
            "Epoch 184/500\n",
            "9/9 [==============================] - 0s 4ms/step - loss: 0.6779\n",
            "Epoch 185/500\n",
            "9/9 [==============================] - 0s 4ms/step - loss: 0.6777\n",
            "Epoch 186/500\n",
            "9/9 [==============================] - 0s 3ms/step - loss: 0.6775\n",
            "Epoch 187/500\n",
            "9/9 [==============================] - 0s 3ms/step - loss: 0.6772\n",
            "Epoch 188/500\n",
            "9/9 [==============================] - 0s 3ms/step - loss: 0.6771\n",
            "Epoch 189/500\n",
            "9/9 [==============================] - 0s 3ms/step - loss: 0.6769\n",
            "Epoch 190/500\n",
            "9/9 [==============================] - 0s 4ms/step - loss: 0.6767\n",
            "Epoch 191/500\n",
            "9/9 [==============================] - 0s 3ms/step - loss: 0.6765\n",
            "Epoch 192/500\n",
            "9/9 [==============================] - 0s 3ms/step - loss: 0.6764\n",
            "Epoch 193/500\n",
            "9/9 [==============================] - 0s 3ms/step - loss: 0.6762\n",
            "Epoch 194/500\n",
            "9/9 [==============================] - 0s 3ms/step - loss: 0.6759\n",
            "Epoch 195/500\n",
            "9/9 [==============================] - 0s 3ms/step - loss: 0.6758\n",
            "Epoch 196/500\n",
            "9/9 [==============================] - 0s 4ms/step - loss: 0.6756\n",
            "Epoch 197/500\n",
            "9/9 [==============================] - 0s 3ms/step - loss: 0.6755\n",
            "Epoch 198/500\n",
            "9/9 [==============================] - 0s 3ms/step - loss: 0.6753\n",
            "Epoch 199/500\n",
            "9/9 [==============================] - 0s 3ms/step - loss: 0.6751\n",
            "Epoch 200/500\n",
            "9/9 [==============================] - 0s 3ms/step - loss: 0.6750\n",
            "Epoch 201/500\n",
            "9/9 [==============================] - 0s 3ms/step - loss: 0.6748\n",
            "Epoch 202/500\n",
            "9/9 [==============================] - 0s 3ms/step - loss: 0.6747\n",
            "Epoch 203/500\n",
            "9/9 [==============================] - 0s 3ms/step - loss: 0.6745\n",
            "Epoch 204/500\n",
            "9/9 [==============================] - 0s 3ms/step - loss: 0.6743\n",
            "Epoch 205/500\n",
            "9/9 [==============================] - 0s 3ms/step - loss: 0.6742\n",
            "Epoch 206/500\n",
            "9/9 [==============================] - 0s 3ms/step - loss: 0.6740\n",
            "Epoch 207/500\n",
            "9/9 [==============================] - 0s 4ms/step - loss: 0.6739\n",
            "Epoch 208/500\n",
            "9/9 [==============================] - 0s 3ms/step - loss: 0.6737\n",
            "Epoch 209/500\n",
            "9/9 [==============================] - 0s 3ms/step - loss: 0.6735\n",
            "Epoch 210/500\n",
            "9/9 [==============================] - 0s 5ms/step - loss: 0.6734\n",
            "Epoch 211/500\n",
            "9/9 [==============================] - 0s 3ms/step - loss: 0.6732\n",
            "Epoch 212/500\n",
            "9/9 [==============================] - 0s 3ms/step - loss: 0.6731\n",
            "Epoch 213/500\n",
            "9/9 [==============================] - 0s 3ms/step - loss: 0.6729\n",
            "Epoch 214/500\n",
            "9/9 [==============================] - 0s 3ms/step - loss: 0.6727\n",
            "Epoch 215/500\n",
            "9/9 [==============================] - 0s 3ms/step - loss: 0.6725\n",
            "Epoch 216/500\n",
            "9/9 [==============================] - 0s 3ms/step - loss: 0.6723\n",
            "Epoch 217/500\n",
            "9/9 [==============================] - 0s 3ms/step - loss: 0.6721\n",
            "Epoch 218/500\n",
            "9/9 [==============================] - 0s 3ms/step - loss: 0.6719\n",
            "Epoch 219/500\n",
            "9/9 [==============================] - 0s 3ms/step - loss: 0.6717\n",
            "Epoch 220/500\n",
            "9/9 [==============================] - 0s 3ms/step - loss: 0.6715\n",
            "Epoch 221/500\n",
            "9/9 [==============================] - 0s 4ms/step - loss: 0.6714\n",
            "Epoch 222/500\n",
            "9/9 [==============================] - 0s 3ms/step - loss: 0.6711\n",
            "Epoch 223/500\n",
            "9/9 [==============================] - 0s 4ms/step - loss: 0.6710\n",
            "Epoch 224/500\n",
            "9/9 [==============================] - 0s 3ms/step - loss: 0.6708\n",
            "Epoch 225/500\n",
            "9/9 [==============================] - 0s 3ms/step - loss: 0.6706\n",
            "Epoch 226/500\n",
            "9/9 [==============================] - 0s 3ms/step - loss: 0.6703\n",
            "Epoch 227/500\n",
            "9/9 [==============================] - 0s 3ms/step - loss: 0.6702\n",
            "Epoch 228/500\n",
            "9/9 [==============================] - 0s 3ms/step - loss: 0.6699\n",
            "Epoch 229/500\n",
            "9/9 [==============================] - 0s 3ms/step - loss: 0.6697\n",
            "Epoch 230/500\n",
            "9/9 [==============================] - 0s 4ms/step - loss: 0.6696\n",
            "Epoch 231/500\n",
            "9/9 [==============================] - 0s 3ms/step - loss: 0.6693\n",
            "Epoch 232/500\n",
            "9/9 [==============================] - 0s 3ms/step - loss: 0.6691\n",
            "Epoch 233/500\n",
            "9/9 [==============================] - 0s 3ms/step - loss: 0.6690\n",
            "Epoch 234/500\n",
            "9/9 [==============================] - 0s 4ms/step - loss: 0.6687\n",
            "Epoch 235/500\n",
            "9/9 [==============================] - 0s 3ms/step - loss: 0.6686\n",
            "Epoch 236/500\n",
            "9/9 [==============================] - 0s 3ms/step - loss: 0.6684\n",
            "Epoch 237/500\n",
            "9/9 [==============================] - 0s 3ms/step - loss: 0.6683\n",
            "Epoch 238/500\n",
            "9/9 [==============================] - 0s 3ms/step - loss: 0.6680\n",
            "Epoch 239/500\n",
            "9/9 [==============================] - 0s 4ms/step - loss: 0.6677\n",
            "Epoch 240/500\n",
            "9/9 [==============================] - 0s 3ms/step - loss: 0.6675\n",
            "Epoch 241/500\n",
            "9/9 [==============================] - 0s 3ms/step - loss: 0.6674\n",
            "Epoch 242/500\n",
            "9/9 [==============================] - 0s 3ms/step - loss: 0.6672\n",
            "Epoch 243/500\n",
            "9/9 [==============================] - 0s 3ms/step - loss: 0.6670\n",
            "Epoch 244/500\n",
            "9/9 [==============================] - 0s 3ms/step - loss: 0.6668\n",
            "Epoch 245/500\n",
            "9/9 [==============================] - 0s 3ms/step - loss: 0.6666\n",
            "Epoch 246/500\n",
            "9/9 [==============================] - 0s 3ms/step - loss: 0.6664\n",
            "Epoch 247/500\n",
            "9/9 [==============================] - 0s 3ms/step - loss: 0.6664\n",
            "Epoch 248/500\n",
            "9/9 [==============================] - 0s 3ms/step - loss: 0.6661\n",
            "Epoch 249/500\n",
            "9/9 [==============================] - 0s 3ms/step - loss: 0.6660\n",
            "Epoch 250/500\n",
            "9/9 [==============================] - 0s 3ms/step - loss: 0.6658\n",
            "Epoch 251/500\n",
            "9/9 [==============================] - 0s 3ms/step - loss: 0.6656\n",
            "Epoch 252/500\n",
            "9/9 [==============================] - 0s 4ms/step - loss: 0.6654\n",
            "Epoch 253/500\n",
            "9/9 [==============================] - 0s 3ms/step - loss: 0.6652\n",
            "Epoch 254/500\n",
            "9/9 [==============================] - 0s 3ms/step - loss: 0.6651\n",
            "Epoch 255/500\n",
            "9/9 [==============================] - 0s 3ms/step - loss: 0.6649\n",
            "Epoch 256/500\n",
            "9/9 [==============================] - 0s 4ms/step - loss: 0.6648\n",
            "Epoch 257/500\n",
            "9/9 [==============================] - 0s 3ms/step - loss: 0.6645\n",
            "Epoch 258/500\n",
            "9/9 [==============================] - 0s 3ms/step - loss: 0.6643\n",
            "Epoch 259/500\n",
            "9/9 [==============================] - 0s 3ms/step - loss: 0.6642\n",
            "Epoch 260/500\n",
            "9/9 [==============================] - 0s 3ms/step - loss: 0.6640\n",
            "Epoch 261/500\n",
            "9/9 [==============================] - 0s 5ms/step - loss: 0.6638\n",
            "Epoch 262/500\n",
            "9/9 [==============================] - 0s 3ms/step - loss: 0.6636\n",
            "Epoch 263/500\n",
            "9/9 [==============================] - 0s 3ms/step - loss: 0.6635\n",
            "Epoch 264/500\n",
            "9/9 [==============================] - 0s 3ms/step - loss: 0.6633\n",
            "Epoch 265/500\n",
            "9/9 [==============================] - 0s 3ms/step - loss: 0.6631\n",
            "Epoch 266/500\n",
            "9/9 [==============================] - 0s 3ms/step - loss: 0.6629\n",
            "Epoch 267/500\n",
            "9/9 [==============================] - 0s 3ms/step - loss: 0.6627\n",
            "Epoch 268/500\n",
            "9/9 [==============================] - 0s 3ms/step - loss: 0.6626\n",
            "Epoch 269/500\n",
            "9/9 [==============================] - 0s 3ms/step - loss: 0.6624\n",
            "Epoch 270/500\n",
            "9/9 [==============================] - 0s 3ms/step - loss: 0.6622\n",
            "Epoch 271/500\n",
            "9/9 [==============================] - 0s 3ms/step - loss: 0.6620\n",
            "Epoch 272/500\n",
            "9/9 [==============================] - 0s 3ms/step - loss: 0.6619\n",
            "Epoch 273/500\n",
            "9/9 [==============================] - 0s 3ms/step - loss: 0.6617\n",
            "Epoch 274/500\n",
            "9/9 [==============================] - 0s 3ms/step - loss: 0.6615\n",
            "Epoch 275/500\n",
            "9/9 [==============================] - 0s 3ms/step - loss: 0.6613\n",
            "Epoch 276/500\n",
            "9/9 [==============================] - 0s 3ms/step - loss: 0.6610\n",
            "Epoch 277/500\n",
            "9/9 [==============================] - 0s 3ms/step - loss: 0.6609\n",
            "Epoch 278/500\n",
            "9/9 [==============================] - 0s 3ms/step - loss: 0.6607\n",
            "Epoch 279/500\n",
            "9/9 [==============================] - 0s 3ms/step - loss: 0.6605\n",
            "Epoch 280/500\n",
            "9/9 [==============================] - 0s 3ms/step - loss: 0.6603\n",
            "Epoch 281/500\n",
            "9/9 [==============================] - 0s 3ms/step - loss: 0.6602\n",
            "Epoch 282/500\n",
            "9/9 [==============================] - 0s 3ms/step - loss: 0.6599\n",
            "Epoch 283/500\n",
            "9/9 [==============================] - 0s 3ms/step - loss: 0.6597\n",
            "Epoch 284/500\n",
            "9/9 [==============================] - 0s 3ms/step - loss: 0.6596\n",
            "Epoch 285/500\n",
            "9/9 [==============================] - 0s 3ms/step - loss: 0.6594\n",
            "Epoch 286/500\n",
            "9/9 [==============================] - 0s 3ms/step - loss: 0.6592\n",
            "Epoch 287/500\n",
            "9/9 [==============================] - 0s 3ms/step - loss: 0.6590\n",
            "Epoch 288/500\n",
            "9/9 [==============================] - 0s 3ms/step - loss: 0.6589\n",
            "Epoch 289/500\n",
            "9/9 [==============================] - 0s 4ms/step - loss: 0.6587\n",
            "Epoch 290/500\n",
            "9/9 [==============================] - 0s 4ms/step - loss: 0.6585\n",
            "Epoch 291/500\n",
            "9/9 [==============================] - 0s 4ms/step - loss: 0.6583\n",
            "Epoch 292/500\n",
            "9/9 [==============================] - 0s 3ms/step - loss: 0.6582\n",
            "Epoch 293/500\n",
            "9/9 [==============================] - 0s 3ms/step - loss: 0.6579\n",
            "Epoch 294/500\n",
            "9/9 [==============================] - 0s 3ms/step - loss: 0.6578\n",
            "Epoch 295/500\n",
            "9/9 [==============================] - 0s 3ms/step - loss: 0.6577\n",
            "Epoch 296/500\n",
            "9/9 [==============================] - 0s 3ms/step - loss: 0.6574\n",
            "Epoch 297/500\n",
            "9/9 [==============================] - 0s 3ms/step - loss: 0.6573\n",
            "Epoch 298/500\n",
            "9/9 [==============================] - 0s 3ms/step - loss: 0.6572\n",
            "Epoch 299/500\n",
            "9/9 [==============================] - 0s 3ms/step - loss: 0.6570\n",
            "Epoch 300/500\n",
            "9/9 [==============================] - 0s 3ms/step - loss: 0.6568\n",
            "Epoch 301/500\n",
            "9/9 [==============================] - 0s 3ms/step - loss: 0.6567\n",
            "Epoch 302/500\n",
            "9/9 [==============================] - 0s 3ms/step - loss: 0.6565\n",
            "Epoch 303/500\n",
            "9/9 [==============================] - 0s 3ms/step - loss: 0.6564\n",
            "Epoch 304/500\n",
            "9/9 [==============================] - 0s 3ms/step - loss: 0.6562\n",
            "Epoch 305/500\n",
            "9/9 [==============================] - 0s 3ms/step - loss: 0.6561\n",
            "Epoch 306/500\n",
            "9/9 [==============================] - 0s 3ms/step - loss: 0.6559\n",
            "Epoch 307/500\n",
            "9/9 [==============================] - 0s 3ms/step - loss: 0.6557\n",
            "Epoch 308/500\n",
            "9/9 [==============================] - 0s 3ms/step - loss: 0.6557\n",
            "Epoch 309/500\n",
            "9/9 [==============================] - 0s 3ms/step - loss: 0.6555\n",
            "Epoch 310/500\n",
            "9/9 [==============================] - 0s 3ms/step - loss: 0.6554\n",
            "Epoch 311/500\n",
            "9/9 [==============================] - 0s 3ms/step - loss: 0.6552\n",
            "Epoch 312/500\n",
            "9/9 [==============================] - 0s 3ms/step - loss: 0.6551\n",
            "Epoch 313/500\n",
            "9/9 [==============================] - 0s 3ms/step - loss: 0.6549\n",
            "Epoch 314/500\n",
            "9/9 [==============================] - 0s 3ms/step - loss: 0.6548\n",
            "Epoch 315/500\n",
            "9/9 [==============================] - 0s 3ms/step - loss: 0.6546\n",
            "Epoch 316/500\n",
            "9/9 [==============================] - 0s 3ms/step - loss: 0.6545\n",
            "Epoch 317/500\n",
            "9/9 [==============================] - 0s 3ms/step - loss: 0.6543\n",
            "Epoch 318/500\n",
            "9/9 [==============================] - 0s 3ms/step - loss: 0.6542\n",
            "Epoch 319/500\n",
            "9/9 [==============================] - 0s 3ms/step - loss: 0.6541\n",
            "Epoch 320/500\n",
            "9/9 [==============================] - 0s 4ms/step - loss: 0.6540\n",
            "Epoch 321/500\n",
            "9/9 [==============================] - 0s 3ms/step - loss: 0.6538\n",
            "Epoch 322/500\n",
            "9/9 [==============================] - 0s 4ms/step - loss: 0.6537\n",
            "Epoch 323/500\n",
            "9/9 [==============================] - 0s 3ms/step - loss: 0.6536\n",
            "Epoch 324/500\n",
            "9/9 [==============================] - 0s 3ms/step - loss: 0.6535\n",
            "Epoch 325/500\n",
            "9/9 [==============================] - 0s 3ms/step - loss: 0.6533\n",
            "Epoch 326/500\n",
            "9/9 [==============================] - 0s 3ms/step - loss: 0.6532\n",
            "Epoch 327/500\n",
            "9/9 [==============================] - 0s 4ms/step - loss: 0.6532\n",
            "Epoch 328/500\n",
            "9/9 [==============================] - 0s 3ms/step - loss: 0.6531\n",
            "Epoch 329/500\n",
            "9/9 [==============================] - 0s 3ms/step - loss: 0.6529\n",
            "Epoch 330/500\n",
            "9/9 [==============================] - 0s 3ms/step - loss: 0.6528\n",
            "Epoch 331/500\n",
            "9/9 [==============================] - 0s 3ms/step - loss: 0.6527\n",
            "Epoch 332/500\n",
            "9/9 [==============================] - 0s 3ms/step - loss: 0.6526\n",
            "Epoch 333/500\n",
            "9/9 [==============================] - 0s 4ms/step - loss: 0.6525\n",
            "Epoch 334/500\n",
            "9/9 [==============================] - 0s 3ms/step - loss: 0.6524\n",
            "Epoch 335/500\n",
            "9/9 [==============================] - 0s 3ms/step - loss: 0.6523\n",
            "Epoch 336/500\n",
            "9/9 [==============================] - 0s 3ms/step - loss: 0.6522\n",
            "Epoch 337/500\n",
            "9/9 [==============================] - 0s 3ms/step - loss: 0.6521\n",
            "Epoch 338/500\n",
            "9/9 [==============================] - 0s 3ms/step - loss: 0.6520\n",
            "Epoch 339/500\n",
            "9/9 [==============================] - 0s 3ms/step - loss: 0.6519\n",
            "Epoch 340/500\n",
            "9/9 [==============================] - 0s 3ms/step - loss: 0.6518\n",
            "Epoch 341/500\n",
            "9/9 [==============================] - 0s 3ms/step - loss: 0.6517\n",
            "Epoch 342/500\n",
            "9/9 [==============================] - 0s 3ms/step - loss: 0.6516\n",
            "Epoch 343/500\n",
            "9/9 [==============================] - 0s 4ms/step - loss: 0.6515\n",
            "Epoch 344/500\n",
            "9/9 [==============================] - 0s 3ms/step - loss: 0.6515\n",
            "Epoch 345/500\n",
            "9/9 [==============================] - 0s 3ms/step - loss: 0.6514\n",
            "Epoch 346/500\n",
            "9/9 [==============================] - 0s 3ms/step - loss: 0.6513\n",
            "Epoch 347/500\n",
            "9/9 [==============================] - 0s 4ms/step - loss: 0.6512\n",
            "Epoch 348/500\n",
            "9/9 [==============================] - 0s 4ms/step - loss: 0.6513\n",
            "Epoch 349/500\n",
            "9/9 [==============================] - 0s 3ms/step - loss: 0.6510\n",
            "Epoch 350/500\n",
            "9/9 [==============================] - 0s 3ms/step - loss: 0.6509\n",
            "Epoch 351/500\n",
            "9/9 [==============================] - 0s 3ms/step - loss: 0.6509\n",
            "Epoch 352/500\n",
            "9/9 [==============================] - 0s 4ms/step - loss: 0.6508\n",
            "Epoch 353/500\n",
            "9/9 [==============================] - 0s 3ms/step - loss: 0.6507\n",
            "Epoch 354/500\n",
            "9/9 [==============================] - 0s 3ms/step - loss: 0.6507\n",
            "Epoch 355/500\n",
            "9/9 [==============================] - 0s 3ms/step - loss: 0.6506\n",
            "Epoch 356/500\n",
            "9/9 [==============================] - 0s 3ms/step - loss: 0.6505\n",
            "Epoch 357/500\n",
            "9/9 [==============================] - 0s 3ms/step - loss: 0.6504\n",
            "Epoch 358/500\n",
            "9/9 [==============================] - 0s 3ms/step - loss: 0.6504\n",
            "Epoch 359/500\n",
            "9/9 [==============================] - 0s 4ms/step - loss: 0.6503\n",
            "Epoch 360/500\n",
            "9/9 [==============================] - 0s 3ms/step - loss: 0.6503\n",
            "Epoch 361/500\n",
            "9/9 [==============================] - 0s 4ms/step - loss: 0.6502\n",
            "Epoch 362/500\n",
            "9/9 [==============================] - 0s 3ms/step - loss: 0.6501\n",
            "Epoch 363/500\n",
            "9/9 [==============================] - 0s 3ms/step - loss: 0.6501\n",
            "Epoch 364/500\n",
            "9/9 [==============================] - 0s 3ms/step - loss: 0.6502\n",
            "Epoch 365/500\n",
            "9/9 [==============================] - 0s 4ms/step - loss: 0.6500\n",
            "Epoch 366/500\n",
            "9/9 [==============================] - 0s 3ms/step - loss: 0.6499\n",
            "Epoch 367/500\n",
            "9/9 [==============================] - 0s 3ms/step - loss: 0.6498\n",
            "Epoch 368/500\n",
            "9/9 [==============================] - 0s 3ms/step - loss: 0.6497\n",
            "Epoch 369/500\n",
            "9/9 [==============================] - 0s 3ms/step - loss: 0.6496\n",
            "Epoch 370/500\n",
            "9/9 [==============================] - 0s 4ms/step - loss: 0.6495\n",
            "Epoch 371/500\n",
            "9/9 [==============================] - 0s 3ms/step - loss: 0.6495\n",
            "Epoch 372/500\n",
            "9/9 [==============================] - 0s 3ms/step - loss: 0.6494\n",
            "Epoch 373/500\n",
            "9/9 [==============================] - 0s 3ms/step - loss: 0.6494\n",
            "Epoch 374/500\n",
            "9/9 [==============================] - 0s 3ms/step - loss: 0.6493\n",
            "Epoch 375/500\n",
            "9/9 [==============================] - 0s 4ms/step - loss: 0.6493\n",
            "Epoch 376/500\n",
            "9/9 [==============================] - 0s 3ms/step - loss: 0.6492\n",
            "Epoch 377/500\n",
            "9/9 [==============================] - 0s 3ms/step - loss: 0.6492\n",
            "Epoch 378/500\n",
            "9/9 [==============================] - 0s 3ms/step - loss: 0.6491\n",
            "Epoch 379/500\n",
            "9/9 [==============================] - 0s 3ms/step - loss: 0.6490\n",
            "Epoch 380/500\n",
            "9/9 [==============================] - 0s 3ms/step - loss: 0.6489\n",
            "Epoch 381/500\n",
            "9/9 [==============================] - 0s 4ms/step - loss: 0.6489\n",
            "Epoch 382/500\n",
            "9/9 [==============================] - 0s 3ms/step - loss: 0.6488\n",
            "Epoch 383/500\n",
            "9/9 [==============================] - 0s 3ms/step - loss: 0.6488\n",
            "Epoch 384/500\n",
            "9/9 [==============================] - 0s 3ms/step - loss: 0.6488\n",
            "Epoch 385/500\n",
            "9/9 [==============================] - 0s 3ms/step - loss: 0.6487\n",
            "Epoch 386/500\n",
            "9/9 [==============================] - 0s 3ms/step - loss: 0.6486\n",
            "Epoch 387/500\n",
            "9/9 [==============================] - 0s 3ms/step - loss: 0.6486\n",
            "Epoch 388/500\n",
            "9/9 [==============================] - 0s 3ms/step - loss: 0.6485\n",
            "Epoch 389/500\n",
            "9/9 [==============================] - 0s 3ms/step - loss: 0.6485\n",
            "Epoch 390/500\n",
            "9/9 [==============================] - 0s 3ms/step - loss: 0.6484\n",
            "Epoch 391/500\n",
            "9/9 [==============================] - 0s 3ms/step - loss: 0.6484\n",
            "Epoch 392/500\n",
            "9/9 [==============================] - 0s 4ms/step - loss: 0.6483\n",
            "Epoch 393/500\n",
            "9/9 [==============================] - 0s 4ms/step - loss: 0.6483\n",
            "Epoch 394/500\n",
            "9/9 [==============================] - 0s 3ms/step - loss: 0.6482\n",
            "Epoch 395/500\n",
            "9/9 [==============================] - 0s 3ms/step - loss: 0.6481\n",
            "Epoch 396/500\n",
            "9/9 [==============================] - 0s 3ms/step - loss: 0.6481\n",
            "Epoch 397/500\n",
            "9/9 [==============================] - 0s 3ms/step - loss: 0.6480\n",
            "Epoch 398/500\n",
            "9/9 [==============================] - 0s 4ms/step - loss: 0.6480\n",
            "Epoch 399/500\n",
            "9/9 [==============================] - 0s 3ms/step - loss: 0.6480\n",
            "Epoch 400/500\n",
            "9/9 [==============================] - 0s 3ms/step - loss: 0.6479\n",
            "Epoch 401/500\n",
            "9/9 [==============================] - 0s 4ms/step - loss: 0.6479\n",
            "Epoch 402/500\n",
            "9/9 [==============================] - 0s 3ms/step - loss: 0.6478\n",
            "Epoch 403/500\n",
            "9/9 [==============================] - 0s 4ms/step - loss: 0.6478\n",
            "Epoch 404/500\n",
            "9/9 [==============================] - 0s 4ms/step - loss: 0.6477\n",
            "Epoch 405/500\n",
            "9/9 [==============================] - 0s 3ms/step - loss: 0.6477\n",
            "Epoch 406/500\n",
            "9/9 [==============================] - 0s 3ms/step - loss: 0.6476\n",
            "Epoch 407/500\n",
            "9/9 [==============================] - 0s 3ms/step - loss: 0.6476\n",
            "Epoch 408/500\n",
            "9/9 [==============================] - 0s 3ms/step - loss: 0.6475\n",
            "Epoch 409/500\n",
            "9/9 [==============================] - 0s 3ms/step - loss: 0.6475\n",
            "Epoch 410/500\n",
            "9/9 [==============================] - 0s 3ms/step - loss: 0.6475\n",
            "Epoch 411/500\n",
            "9/9 [==============================] - 0s 4ms/step - loss: 0.6474\n",
            "Epoch 412/500\n",
            "9/9 [==============================] - 0s 3ms/step - loss: 0.6475\n",
            "Epoch 413/500\n",
            "9/9 [==============================] - 0s 3ms/step - loss: 0.6474\n",
            "Epoch 414/500\n",
            "9/9 [==============================] - 0s 3ms/step - loss: 0.6473\n",
            "Epoch 415/500\n",
            "9/9 [==============================] - 0s 3ms/step - loss: 0.6473\n",
            "Epoch 416/500\n",
            "9/9 [==============================] - 0s 3ms/step - loss: 0.6473\n",
            "Epoch 417/500\n",
            "9/9 [==============================] - 0s 3ms/step - loss: 0.6472\n",
            "Epoch 418/500\n",
            "9/9 [==============================] - 0s 3ms/step - loss: 0.6472\n",
            "Epoch 419/500\n",
            "9/9 [==============================] - 0s 3ms/step - loss: 0.6472\n",
            "Epoch 420/500\n",
            "9/9 [==============================] - 0s 3ms/step - loss: 0.6471\n",
            "Epoch 421/500\n",
            "9/9 [==============================] - 0s 3ms/step - loss: 0.6471\n",
            "Epoch 422/500\n",
            "9/9 [==============================] - 0s 3ms/step - loss: 0.6470\n",
            "Epoch 423/500\n",
            "9/9 [==============================] - 0s 3ms/step - loss: 0.6470\n",
            "Epoch 424/500\n",
            "9/9 [==============================] - 0s 3ms/step - loss: 0.6469\n",
            "Epoch 425/500\n",
            "9/9 [==============================] - 0s 3ms/step - loss: 0.6470\n",
            "Epoch 426/500\n",
            "9/9 [==============================] - 0s 3ms/step - loss: 0.6469\n",
            "Epoch 427/500\n",
            "9/9 [==============================] - 0s 3ms/step - loss: 0.6468\n",
            "Epoch 428/500\n",
            "9/9 [==============================] - 0s 3ms/step - loss: 0.6467\n",
            "Epoch 429/500\n",
            "9/9 [==============================] - 0s 3ms/step - loss: 0.6467\n",
            "Epoch 430/500\n",
            "9/9 [==============================] - 0s 3ms/step - loss: 0.6467\n",
            "Epoch 431/500\n",
            "9/9 [==============================] - 0s 3ms/step - loss: 0.6467\n",
            "Epoch 432/500\n",
            "9/9 [==============================] - 0s 3ms/step - loss: 0.6466\n",
            "Epoch 433/500\n",
            "9/9 [==============================] - 0s 3ms/step - loss: 0.6466\n",
            "Epoch 434/500\n",
            "9/9 [==============================] - 0s 3ms/step - loss: 0.6466\n",
            "Epoch 435/500\n",
            "9/9 [==============================] - 0s 3ms/step - loss: 0.6466\n",
            "Epoch 436/500\n",
            "9/9 [==============================] - 0s 3ms/step - loss: 0.6465\n",
            "Epoch 437/500\n",
            "9/9 [==============================] - 0s 3ms/step - loss: 0.6465\n",
            "Epoch 438/500\n",
            "9/9 [==============================] - 0s 3ms/step - loss: 0.6464\n",
            "Epoch 439/500\n",
            "9/9 [==============================] - 0s 3ms/step - loss: 0.6464\n",
            "Epoch 440/500\n",
            "9/9 [==============================] - 0s 3ms/step - loss: 0.6465\n",
            "Epoch 441/500\n",
            "9/9 [==============================] - 0s 3ms/step - loss: 0.6464\n",
            "Epoch 442/500\n",
            "9/9 [==============================] - 0s 4ms/step - loss: 0.6463\n",
            "Epoch 443/500\n",
            "9/9 [==============================] - 0s 3ms/step - loss: 0.6463\n",
            "Epoch 444/500\n",
            "9/9 [==============================] - 0s 3ms/step - loss: 0.6463\n",
            "Epoch 445/500\n",
            "9/9 [==============================] - 0s 3ms/step - loss: 0.6462\n",
            "Epoch 446/500\n",
            "9/9 [==============================] - 0s 3ms/step - loss: 0.6461\n",
            "Epoch 447/500\n",
            "9/9 [==============================] - 0s 3ms/step - loss: 0.6461\n",
            "Epoch 448/500\n",
            "9/9 [==============================] - 0s 4ms/step - loss: 0.6462\n",
            "Epoch 449/500\n",
            "9/9 [==============================] - 0s 3ms/step - loss: 0.6461\n",
            "Epoch 450/500\n",
            "9/9 [==============================] - 0s 3ms/step - loss: 0.6461\n",
            "Epoch 451/500\n",
            "9/9 [==============================] - 0s 3ms/step - loss: 0.6461\n",
            "Epoch 452/500\n",
            "9/9 [==============================] - 0s 3ms/step - loss: 0.6460\n",
            "Epoch 453/500\n",
            "9/9 [==============================] - 0s 3ms/step - loss: 0.6460\n",
            "Epoch 454/500\n",
            "9/9 [==============================] - 0s 3ms/step - loss: 0.6460\n",
            "Epoch 455/500\n",
            "9/9 [==============================] - 0s 3ms/step - loss: 0.6460\n",
            "Epoch 456/500\n",
            "9/9 [==============================] - 0s 3ms/step - loss: 0.6458\n",
            "Epoch 457/500\n",
            "9/9 [==============================] - 0s 3ms/step - loss: 0.6458\n",
            "Epoch 458/500\n",
            "9/9 [==============================] - 0s 3ms/step - loss: 0.6459\n",
            "Epoch 459/500\n",
            "9/9 [==============================] - 0s 3ms/step - loss: 0.6458\n",
            "Epoch 460/500\n",
            "9/9 [==============================] - 0s 3ms/step - loss: 0.6457\n",
            "Epoch 461/500\n",
            "9/9 [==============================] - 0s 3ms/step - loss: 0.6457\n",
            "Epoch 462/500\n",
            "9/9 [==============================] - 0s 4ms/step - loss: 0.6457\n",
            "Epoch 463/500\n",
            "9/9 [==============================] - 0s 4ms/step - loss: 0.6457\n",
            "Epoch 464/500\n",
            "9/9 [==============================] - 0s 3ms/step - loss: 0.6456\n",
            "Epoch 465/500\n",
            "9/9 [==============================] - 0s 3ms/step - loss: 0.6456\n",
            "Epoch 466/500\n",
            "9/9 [==============================] - 0s 4ms/step - loss: 0.6456\n",
            "Epoch 467/500\n",
            "9/9 [==============================] - 0s 3ms/step - loss: 0.6456\n",
            "Epoch 468/500\n",
            "9/9 [==============================] - 0s 3ms/step - loss: 0.6455\n",
            "Epoch 469/500\n",
            "9/9 [==============================] - 0s 3ms/step - loss: 0.6455\n",
            "Epoch 470/500\n",
            "9/9 [==============================] - 0s 3ms/step - loss: 0.6455\n",
            "Epoch 471/500\n",
            "9/9 [==============================] - 0s 4ms/step - loss: 0.6455\n",
            "Epoch 472/500\n",
            "9/9 [==============================] - 0s 3ms/step - loss: 0.6454\n",
            "Epoch 473/500\n",
            "9/9 [==============================] - 0s 3ms/step - loss: 0.6454\n",
            "Epoch 474/500\n",
            "9/9 [==============================] - 0s 3ms/step - loss: 0.6454\n",
            "Epoch 475/500\n",
            "9/9 [==============================] - 0s 3ms/step - loss: 0.6453\n",
            "Epoch 476/500\n",
            "9/9 [==============================] - 0s 4ms/step - loss: 0.6454\n",
            "Epoch 477/500\n",
            "9/9 [==============================] - 0s 3ms/step - loss: 0.6454\n",
            "Epoch 478/500\n",
            "9/9 [==============================] - 0s 3ms/step - loss: 0.6453\n",
            "Epoch 479/500\n",
            "9/9 [==============================] - 0s 3ms/step - loss: 0.6453\n",
            "Epoch 480/500\n",
            "9/9 [==============================] - 0s 4ms/step - loss: 0.6452\n",
            "Epoch 481/500\n",
            "9/9 [==============================] - 0s 3ms/step - loss: 0.6452\n",
            "Epoch 482/500\n",
            "9/9 [==============================] - 0s 3ms/step - loss: 0.6452\n",
            "Epoch 483/500\n",
            "9/9 [==============================] - 0s 3ms/step - loss: 0.6451\n",
            "Epoch 484/500\n",
            "9/9 [==============================] - 0s 3ms/step - loss: 0.6451\n",
            "Epoch 485/500\n",
            "9/9 [==============================] - 0s 4ms/step - loss: 0.6451\n",
            "Epoch 486/500\n",
            "9/9 [==============================] - 0s 3ms/step - loss: 0.6451\n",
            "Epoch 487/500\n",
            "9/9 [==============================] - 0s 3ms/step - loss: 0.6450\n",
            "Epoch 488/500\n",
            "9/9 [==============================] - 0s 3ms/step - loss: 0.6450\n",
            "Epoch 489/500\n",
            "9/9 [==============================] - 0s 4ms/step - loss: 0.6450\n",
            "Epoch 490/500\n",
            "9/9 [==============================] - 0s 3ms/step - loss: 0.6449\n",
            "Epoch 491/500\n",
            "9/9 [==============================] - 0s 3ms/step - loss: 0.6449\n",
            "Epoch 492/500\n",
            "9/9 [==============================] - 0s 3ms/step - loss: 0.6449\n",
            "Epoch 493/500\n",
            "9/9 [==============================] - 0s 3ms/step - loss: 0.6449\n",
            "Epoch 494/500\n",
            "9/9 [==============================] - 0s 3ms/step - loss: 0.6448\n",
            "Epoch 495/500\n",
            "9/9 [==============================] - 0s 4ms/step - loss: 0.6449\n",
            "Epoch 496/500\n",
            "9/9 [==============================] - 0s 3ms/step - loss: 0.6448\n",
            "Epoch 497/500\n",
            "9/9 [==============================] - 0s 4ms/step - loss: 0.6448\n",
            "Epoch 498/500\n",
            "9/9 [==============================] - 0s 3ms/step - loss: 0.6448\n",
            "Epoch 499/500\n",
            "9/9 [==============================] - 0s 3ms/step - loss: 0.6448\n",
            "Epoch 500/500\n",
            "9/9 [==============================] - 0s 4ms/step - loss: 0.6447\n"
          ]
        }
      ]
    },
    {
      "cell_type": "code",
      "source": [
        ""
      ],
      "metadata": {
        "id": "L4JQSwc3L_oE"
      },
      "execution_count": null,
      "outputs": []
    },
    {
      "cell_type": "code",
      "source": [
        "# Evaluate Models\n",
        "distortion,sil_score,db_score=kmeans_cal(pred_matrix)\n",
        "K=range(2,20)\n",
        "plt.figure(figsize=(5,5))\n",
        "plt.plot(K,distortion,'bx-')\n",
        "plt.xlabel('k')\n",
        "plt.ylabel('Distortion')\n",
        "plt.title('The Elbow Method for autoencoder')\n",
        "plt.show()"
      ],
      "metadata": {
        "colab": {
          "base_uri": "https://localhost:8080/",
          "height": 656
        },
        "id": "McYxI429_DVZ",
        "outputId": "3fec8200-c268-4e37-fca4-98d484773950"
      },
      "execution_count": 39,
      "outputs": [
        {
          "output_type": "stream",
          "name": "stdout",
          "text": [
            "2\n",
            "3\n",
            "4\n",
            "5\n",
            "6\n",
            "7\n",
            "8\n",
            "9\n",
            "10\n",
            "11\n",
            "12\n",
            "13\n",
            "14\n",
            "15\n",
            "16\n",
            "17\n",
            "18\n",
            "19\n"
          ]
        },
        {
          "output_type": "display_data",
          "data": {
            "text/plain": [
              "<Figure size 360x360 with 1 Axes>"
            ],
            "image/png": "[encoded data removed]"
          },
          "metadata": {
            "needs_background": "light"
          }
        }
      ]
    },
    {
      "cell_type": "code",
      "source": [
        "distortions2,sil_score2,db_score2=pca_cal(5,dc)"
      ],
      "metadata": {
        "colab": {
          "base_uri": "https://localhost:8080/"
        },
        "id": "-F2KUebI9FIU",
        "outputId": "4636bd13-8d49-41f0-d867-ca7d327c50e6"
      },
      "execution_count": 40,
      "outputs": [
        {
          "output_type": "stream",
          "name": "stdout",
          "text": [
            "[0.34219582 0.10571816 0.07796329 0.05662898 0.05587873]\n",
            "2\n",
            "3\n",
            "4\n",
            "5\n",
            "6\n",
            "7\n",
            "8\n",
            "9\n",
            "10\n",
            "11\n",
            "12\n",
            "13\n",
            "14\n",
            "15\n",
            "16\n",
            "17\n",
            "18\n",
            "19\n"
          ]
        }
      ]
    },
    {
      "cell_type": "code",
      "execution_count": 45,
      "metadata": {
        "id": "liXVPIFZt-_A",
        "outputId": "426715cc-cf24-40b8-dc74-6c562a8f84ce",
        "colab": {
          "base_uri": "https://localhost:8080/",
          "height": 296
        }
      },
      "outputs": [
        {
          "output_type": "execute_result",
          "data": {
            "text/plain": [
              "<matplotlib.legend.Legend at 0x7f56d5ff9e10>"
            ]
          },
          "metadata": {},
          "execution_count": 45
        },
        {
          "output_type": "display_data",
          "data": {
            "text/plain": [
              "<Figure size 432x288 with 1 Axes>"
            ],
            "image/png": "[encoded data removed]"
          },
          "metadata": {
            "needs_background": "light"
          }
        }
      ],
      "source": [
        "K=range(2,20)\n",
        "plt.plot(K,sil_score,color='blue',marker='o',label='Autoencoder')\n",
        "plt.plot(K,sil_score2,color='red',marker='x',label='PCA')\n",
        "plt.xlabel('Number of clusters')\n",
        "plt.ylabel('Silhouette score')\n",
        "plt.legend()"
      ]
    },
    {
      "cell_type": "code",
      "source": [
        "K=range(2,20)\n",
        "plt.plot(K,db_score,color='blue',marker='o',label='Autoencoder')\n",
        "plt.plot(K,db_score2,color='red',marker='x',label='PCA')\n",
        "plt.xlabel('Number of clusters')\n",
        "plt.ylabel('Davies-Bouldin(DB) index')\n",
        "plt.legend()"
      ],
      "metadata": {
        "colab": {
          "base_uri": "https://localhost:8080/",
          "height": 296
        },
        "id": "dEbiRGNXFDZx",
        "outputId": "2b1c058b-3e4d-4bea-eff6-e6135b88b46f"
      },
      "execution_count": 43,
      "outputs": [
        {
          "output_type": "execute_result",
          "data": {
            "text/plain": [
              "<matplotlib.legend.Legend at 0x7f56d6104bd0>"
            ]
          },
          "metadata": {},
          "execution_count": 43
        },
        {
          "output_type": "display_data",
          "data": {
            "text/plain": [
              "<Figure size 432x288 with 1 Axes>"
            ],
            "image/png": "[encoded data removed]"
          },
          "metadata": {
            "needs_background": "light"
          }
        }
      ]
    },
    {
      "cell_type": "code",
      "source": [
        "# Evaluate Models\n",
        "# silhouette_score\n",
        "kmeanModel=KMeans(n_clusters=4)\n",
        "kmeanModel.fit(pred_matrix)\n",
        "pred_df=pd.DataFrame(pred_matrix)\n",
        "pred_df['label']=kmeanModel.labels_"
      ],
      "metadata": {
        "id": "__-qR4AD-xmU"
      },
      "execution_count": 51,
      "outputs": []
    },
    {
      "cell_type": "code",
      "source": [
        "df['label']=kmeanModel.labels_\n",
        "sns.boxenplot(data = df,x=df[\"label\"], y=df[\"Income\"], palette= 'pastel')"
      ],
      "metadata": {
        "colab": {
          "base_uri": "https://localhost:8080/",
          "height": 296
        },
        "id": "BecVMajQP7zJ",
        "outputId": "f102c273-9aa5-47bd-e979-db86c69426eb"
      },
      "execution_count": 57,
      "outputs": [
        {
          "output_type": "execute_result",
          "data": {
            "text/plain": [
              "<matplotlib.axes._subplots.AxesSubplot at 0x7f56e2ba8390>"
            ]
          },
          "metadata": {},
          "execution_count": 57
        },
        {
          "output_type": "display_data",
          "data": {
            "text/plain": [
              "<Figure size 432x288 with 1 Axes>"
            ],
            "image/png": "[encoded data removed]"
          },
          "metadata": {
            "needs_background": "light"
          }
        }
      ]
    },
    {
      "cell_type": "code",
      "source": [
        "sns.boxenplot(data = df,x=df[\"label\"], y=df[\"NumDealsPurchases\"], palette= 'pastel')"
      ],
      "metadata": {
        "colab": {
          "base_uri": "https://localhost:8080/",
          "height": 296
        },
        "id": "2wVSuz3TRRi6",
        "outputId": "13e25378-0cee-47b3-8dab-6083973318eb"
      },
      "execution_count": 56,
      "outputs": [
        {
          "output_type": "execute_result",
          "data": {
            "text/plain": [
              "<matplotlib.axes._subplots.AxesSubplot at 0x7f56e2a10790>"
            ]
          },
          "metadata": {},
          "execution_count": 56
        },
        {
          "output_type": "display_data",
          "data": {
            "text/plain": [
              "<Figure size 432x288 with 1 Axes>"
            ],
            "image/png": "[encoded data removed]"
          },
          "metadata": {
            "needs_background": "light"
          }
        }
      ]
    },
    {
      "cell_type": "code",
      "source": [
        "sns.boxenplot(data = df,x=df[\"label\"], y=df[\"MntWines\"], palette= 'pastel')"
      ],
      "metadata": {
        "colab": {
          "base_uri": "https://localhost:8080/",
          "height": 296
        },
        "id": "CfrlmQ6tSWLb",
        "outputId": "c1d9c135-05e3-402e-bb24-5f3290b2500b"
      },
      "execution_count": 71,
      "outputs": [
        {
          "output_type": "execute_result",
          "data": {
            "text/plain": [
              "<matplotlib.axes._subplots.AxesSubplot at 0x7f56e29d4090>"
            ]
          },
          "metadata": {},
          "execution_count": 71
        },
        {
          "output_type": "display_data",
          "data": {
            "text/plain": [
              "<Figure size 432x288 with 1 Axes>"
            ],
            "image/png": "[encoded data removed]"
          },
          "metadata": {
            "needs_background": "light"
          }
        }
      ]
    },
    {
      "cell_type": "code",
      "source": [
        "sns.histplot(data = df,x=df[\"label\"], hue=df[\"Education\"])"
      ],
      "metadata": {
        "colab": {
          "base_uri": "https://localhost:8080/",
          "height": 296
        },
        "id": "e0VQ6JwdTNFt",
        "outputId": "1f7ab967-9c85-4aee-cacc-5a653c7333dd"
      },
      "execution_count": 70,
      "outputs": [
        {
          "output_type": "execute_result",
          "data": {
            "text/plain": [
              "<matplotlib.axes._subplots.AxesSubplot at 0x7f56e29d4a90>"
            ]
          },
          "metadata": {},
          "execution_count": 70
        },
        {
          "output_type": "display_data",
          "data": {
            "text/plain": [
              "<Figure size 432x288 with 1 Axes>"
            ],
            "image/png": "[encoded data removed]"
          },
          "metadata": {
            "needs_background": "light"
          }
        }
      ]
    },
    {
      "cell_type": "code",
      "source": [
        "df.describe()"
      ],
      "metadata": {
        "colab": {
          "base_uri": "https://localhost:8080/",
          "height": 361
        },
        "id": "U_MWpyLZS4iQ",
        "outputId": "aea99b49-a903-4224-f381-673b06e314b2"
      },
      "execution_count": 62,
      "outputs": [
        {
          "output_type": "execute_result",
          "data": {
            "text/plain": [
              "         Education  Marital_Status         Income      Recency     MntWines  \\\n",
              "count  2215.000000     2215.000000    2215.000000  2215.000000  2215.000000   \n",
              "mean      1.689391        0.645147   51969.861400    49.024379   305.225282   \n",
              "std       0.805441        0.478577   21526.320095    28.949608   337.345380   \n",
              "min       1.000000        0.000000    1730.000000     0.000000     0.000000   \n",
              "25%       1.000000        0.000000   35284.000000    24.000000    24.000000   \n",
              "50%       1.000000        1.000000   51373.000000    49.000000   175.000000   \n",
              "75%       2.000000        1.000000   68487.000000    74.000000   505.000000   \n",
              "max       3.000000        1.000000  162397.000000    99.000000  1493.000000   \n",
              "\n",
              "         MntFruits  MntMeatProducts  MntFishProducts  MntSweetProducts  \\\n",
              "count  2215.000000      2215.000000      2215.000000       2215.000000   \n",
              "mean     26.361625       167.063205        37.651016         27.040632   \n",
              "std      39.802036       224.311559        54.760822         41.077594   \n",
              "min       0.000000         0.000000         0.000000          0.000000   \n",
              "25%       2.000000        16.000000         3.000000          1.000000   \n",
              "50%       8.000000        68.000000        12.000000          8.000000   \n",
              "75%      33.000000       232.500000        50.000000         33.000000   \n",
              "max     199.000000      1725.000000       259.000000        262.000000   \n",
              "\n",
              "       MntGoldProds  NumDealsPurchases  NumWebPurchases  NumCatalogPurchases  \\\n",
              "count   2215.000000        2215.000000      2215.000000          2215.000000   \n",
              "mean      43.979684           2.322799         4.085779             2.671783   \n",
              "std       51.822660           1.923820         2.741473             2.927179   \n",
              "min        0.000000           0.000000         0.000000             0.000000   \n",
              "25%        9.000000           1.000000         2.000000             0.000000   \n",
              "50%       25.000000           2.000000         4.000000             2.000000   \n",
              "75%       56.000000           3.000000         6.000000             4.000000   \n",
              "max      321.000000          15.000000        27.000000            28.000000   \n",
              "\n",
              "       NumStorePurchases  NumWebVisitsMonth          Age     ChildNum  \\\n",
              "count        2215.000000        2215.000000  2215.000000  2215.000000   \n",
              "mean            5.802257           5.318736    53.183296     0.947178   \n",
              "std             3.250974           2.425863    11.987000     0.749230   \n",
              "min             0.000000           0.000000    26.000000     0.000000   \n",
              "25%             3.000000           3.000000    45.000000     0.000000   \n",
              "50%             5.000000           6.000000    52.000000     1.000000   \n",
              "75%             8.000000           7.000000    63.000000     1.000000   \n",
              "max            13.000000          20.000000   129.000000     3.000000   \n",
              "\n",
              "       Customer_days        label  \n",
              "count    2215.000000  2215.000000  \n",
              "mean     3200.503837     1.709707  \n",
              "std       202.478727     1.122236  \n",
              "min      2847.000000     0.000000  \n",
              "25%      3027.000000     1.000000  \n",
              "50%      3202.000000     2.000000  \n",
              "75%      3376.000000     3.000000  \n",
              "max      3546.000000     3.000000  "
            ],
            "text/html": [
              "\n",
              "  <div id=\"df-80a03100-c338-4b07-bdc4-d55450452542\">\n",
              "    <div class=\"colab-df-container\">\n",
              "      <div>\n",
              "<style scoped>\n",
              "    .dataframe tbody tr th:only-of-type {\n",
              "        vertical-align: middle;\n",
              "    }\n",
              "\n",
              "    .dataframe tbody tr th {\n",
              "        vertical-align: top;\n",
              "    }\n",
              "\n",
              "    .dataframe thead th {\n",
              "        text-align: right;\n",
              "    }\n",
              "</style>\n",
              "<table border=\"1\" class=\"dataframe\">\n",
              "  <thead>\n",
              "    <tr style=\"text-align: right;\">\n",
              "      <th></th>\n",
              "      <th>Education</th>\n",
              "      <th>Marital_Status</th>\n",
              "      <th>Income</th>\n",
              "      <th>Recency</th>\n",
              "      <th>MntWines</th>\n",
              "      <th>MntFruits</th>\n",
              "      <th>MntMeatProducts</th>\n",
              "      <th>MntFishProducts</th>\n",
              "      <th>MntSweetProducts</th>\n",
              "      <th>MntGoldProds</th>\n",
              "      <th>NumDealsPurchases</th>\n",
              "      <th>NumWebPurchases</th>\n",
              "      <th>NumCatalogPurchases</th>\n",
              "      <th>NumStorePurchases</th>\n",
              "      <th>NumWebVisitsMonth</th>\n",
              "      <th>Age</th>\n",
              "      <th>ChildNum</th>\n",
              "      <th>Customer_days</th>\n",
              "      <th>label</th>\n",
              "    </tr>\n",
              "  </thead>\n",
              "  <tbody>\n",
              "    <tr>\n",
              "      <th>count</th>\n",
              "      <td>2215.000000</td>\n",
              "      <td>2215.000000</td>\n",
              "      <td>2215.000000</td>\n",
              "      <td>2215.000000</td>\n",
              "      <td>2215.000000</td>\n",
              "      <td>2215.000000</td>\n",
              "      <td>2215.000000</td>\n",
              "      <td>2215.000000</td>\n",
              "      <td>2215.000000</td>\n",
              "      <td>2215.000000</td>\n",
              "      <td>2215.000000</td>\n",
              "      <td>2215.000000</td>\n",
              "      <td>2215.000000</td>\n",
              "      <td>2215.000000</td>\n",
              "      <td>2215.000000</td>\n",
              "      <td>2215.000000</td>\n",
              "      <td>2215.000000</td>\n",
              "      <td>2215.000000</td>\n",
              "      <td>2215.000000</td>\n",
              "    </tr>\n",
              "    <tr>\n",
              "      <th>mean</th>\n",
              "      <td>1.689391</td>\n",
              "      <td>0.645147</td>\n",
              "      <td>51969.861400</td>\n",
              "      <td>49.024379</td>\n",
              "      <td>305.225282</td>\n",
              "      <td>26.361625</td>\n",
              "      <td>167.063205</td>\n",
              "      <td>37.651016</td>\n",
              "      <td>27.040632</td>\n",
              "      <td>43.979684</td>\n",
              "      <td>2.322799</td>\n",
              "      <td>4.085779</td>\n",
              "      <td>2.671783</td>\n",
              "      <td>5.802257</td>\n",
              "      <td>5.318736</td>\n",
              "      <td>53.183296</td>\n",
              "      <td>0.947178</td>\n",
              "      <td>3200.503837</td>\n",
              "      <td>1.709707</td>\n",
              "    </tr>\n",
              "    <tr>\n",
              "      <th>std</th>\n",
              "      <td>0.805441</td>\n",
              "      <td>0.478577</td>\n",
              "      <td>21526.320095</td>\n",
              "      <td>28.949608</td>\n",
              "      <td>337.345380</td>\n",
              "      <td>39.802036</td>\n",
              "      <td>224.311559</td>\n",
              "      <td>54.760822</td>\n",
              "      <td>41.077594</td>\n",
              "      <td>51.822660</td>\n",
              "      <td>1.923820</td>\n",
              "      <td>2.741473</td>\n",
              "      <td>2.927179</td>\n",
              "      <td>3.250974</td>\n",
              "      <td>2.425863</td>\n",
              "      <td>11.987000</td>\n",
              "      <td>0.749230</td>\n",
              "      <td>202.478727</td>\n",
              "      <td>1.122236</td>\n",
              "    </tr>\n",
              "    <tr>\n",
              "      <th>min</th>\n",
              "      <td>1.000000</td>\n",
              "      <td>0.000000</td>\n",
              "      <td>1730.000000</td>\n",
              "      <td>0.000000</td>\n",
              "      <td>0.000000</td>\n",
              "      <td>0.000000</td>\n",
              "      <td>0.000000</td>\n",
              "      <td>0.000000</td>\n",
              "      <td>0.000000</td>\n",
              "      <td>0.000000</td>\n",
              "      <td>0.000000</td>\n",
              "      <td>0.000000</td>\n",
              "      <td>0.000000</td>\n",
              "      <td>0.000000</td>\n",
              "      <td>0.000000</td>\n",
              "      <td>26.000000</td>\n",
              "      <td>0.000000</td>\n",
              "      <td>2847.000000</td>\n",
              "      <td>0.000000</td>\n",
              "    </tr>\n",
              "    <tr>\n",
              "      <th>25%</th>\n",
              "      <td>1.000000</td>\n",
              "      <td>0.000000</td>\n",
              "      <td>35284.000000</td>\n",
              "      <td>24.000000</td>\n",
              "      <td>24.000000</td>\n",
              "      <td>2.000000</td>\n",
              "      <td>16.000000</td>\n",
              "      <td>3.000000</td>\n",
              "      <td>1.000000</td>\n",
              "      <td>9.000000</td>\n",
              "      <td>1.000000</td>\n",
              "      <td>2.000000</td>\n",
              "      <td>0.000000</td>\n",
              "      <td>3.000000</td>\n",
              "      <td>3.000000</td>\n",
              "      <td>45.000000</td>\n",
              "      <td>0.000000</td>\n",
              "      <td>3027.000000</td>\n",
              "      <td>1.000000</td>\n",
              "    </tr>\n",
              "    <tr>\n",
              "      <th>50%</th>\n",
              "      <td>1.000000</td>\n",
              "      <td>1.000000</td>\n",
              "      <td>51373.000000</td>\n",
              "      <td>49.000000</td>\n",
              "      <td>175.000000</td>\n",
              "      <td>8.000000</td>\n",
              "      <td>68.000000</td>\n",
              "      <td>12.000000</td>\n",
              "      <td>8.000000</td>\n",
              "      <td>25.000000</td>\n",
              "      <td>2.000000</td>\n",
              "      <td>4.000000</td>\n",
              "      <td>2.000000</td>\n",
              "      <td>5.000000</td>\n",
              "      <td>6.000000</td>\n",
              "      <td>52.000000</td>\n",
              "      <td>1.000000</td>\n",
              "      <td>3202.000000</td>\n",
              "      <td>2.000000</td>\n",
              "    </tr>\n",
              "    <tr>\n",
              "      <th>75%</th>\n",
              "      <td>2.000000</td>\n",
              "      <td>1.000000</td>\n",
              "      <td>68487.000000</td>\n",
              "      <td>74.000000</td>\n",
              "      <td>505.000000</td>\n",
              "      <td>33.000000</td>\n",
              "      <td>232.500000</td>\n",
              "      <td>50.000000</td>\n",
              "      <td>33.000000</td>\n",
              "      <td>56.000000</td>\n",
              "      <td>3.000000</td>\n",
              "      <td>6.000000</td>\n",
              "      <td>4.000000</td>\n",
              "      <td>8.000000</td>\n",
              "      <td>7.000000</td>\n",
              "      <td>63.000000</td>\n",
              "      <td>1.000000</td>\n",
              "      <td>3376.000000</td>\n",
              "      <td>3.000000</td>\n",
              "    </tr>\n",
              "    <tr>\n",
              "      <th>max</th>\n",
              "      <td>3.000000</td>\n",
              "      <td>1.000000</td>\n",
              "      <td>162397.000000</td>\n",
              "      <td>99.000000</td>\n",
              "      <td>1493.000000</td>\n",
              "      <td>199.000000</td>\n",
              "      <td>1725.000000</td>\n",
              "      <td>259.000000</td>\n",
              "      <td>262.000000</td>\n",
              "      <td>321.000000</td>\n",
              "      <td>15.000000</td>\n",
              "      <td>27.000000</td>\n",
              "      <td>28.000000</td>\n",
              "      <td>13.000000</td>\n",
              "      <td>20.000000</td>\n",
              "      <td>129.000000</td>\n",
              "      <td>3.000000</td>\n",
              "      <td>3546.000000</td>\n",
              "      <td>3.000000</td>\n",
              "    </tr>\n",
              "  </tbody>\n",
              "</table>\n",
              "</div>\n",
              "      <button class=\"colab-df-convert\" onclick=\"convertToInteractive('df-80a03100-c338-4b07-bdc4-d55450452542')\"\n",
              "              title=\"Convert this dataframe to an interactive table.\"\n",
              "              style=\"display:none;\">\n",
              "        \n",
              "  <svg xmlns=\"http://www.w3.org/2000/svg\" height=\"24px\"viewBox=\"0 0 24 24\"\n",
              "       width=\"24px\">\n",
              "    <path d=\"M0 0h24v24H0V0z\" fill=\"none\"/>\n",
              "    <path d=\"M18.56 5.44l.94 2.06.94-2.06 2.06-.94-2.06-.94-.94-2.06-.94 2.06-2.06.94zm-11 1L8.5 8.5l.94-2.06 2.06-.94-2.06-.94L8.5 2.5l-.94 2.06-2.06.94zm10 10l.94 2.06.94-2.06 2.06-.94-2.06-.94-.94-2.06-.94 2.06-2.06.94z\"/><path d=\"M17.41 7.96l-1.37-1.37c-.4-.4-.92-.59-1.43-.59-.52 0-1.04.2-1.43.59L10.3 9.45l-7.72 7.72c-.78.78-.78 2.05 0 2.83L4 21.41c.39.39.9.59 1.41.59.51 0 1.02-.2 1.41-.59l7.78-7.78 2.81-2.81c.8-.78.8-2.07 0-2.86zM5.41 20L4 18.59l7.72-7.72 1.47 1.35L5.41 20z\"/>\n",
              "  </svg>\n",
              "      </button>\n",
              "      \n",
              "  <style>\n",
              "    .colab-df-container {\n",
              "      display:flex;\n",
              "      flex-wrap:wrap;\n",
              "      gap: 12px;\n",
              "    }\n",
              "\n",
              "    .colab-df-convert {\n",
              "      background-color: #E8F0FE;\n",
              "      border: none;\n",
              "      border-radius: 50%;\n",
              "      cursor: pointer;\n",
              "      display: none;\n",
              "      fill: #1967D2;\n",
              "      height: 32px;\n",
              "      padding: 0 0 0 0;\n",
              "      width: 32px;\n",
              "    }\n",
              "\n",
              "    .colab-df-convert:hover {\n",
              "      background-color: #E2EBFA;\n",
              "      box-shadow: 0px 1px 2px rgba(60, 64, 67, 0.3), 0px 1px 3px 1px rgba(60, 64, 67, 0.15);\n",
              "      fill: #174EA6;\n",
              "    }\n",
              "\n",
              "    [theme=dark] .colab-df-convert {\n",
              "      background-color: #3B4455;\n",
              "      fill: #D2E3FC;\n",
              "    }\n",
              "\n",
              "    [theme=dark] .colab-df-convert:hover {\n",
              "      background-color: #434B5C;\n",
              "      box-shadow: 0px 1px 3px 1px rgba(0, 0, 0, 0.15);\n",
              "      filter: drop-shadow(0px 1px 2px rgba(0, 0, 0, 0.3));\n",
              "      fill: #FFFFFF;\n",
              "    }\n",
              "  </style>\n",
              "\n",
              "      <script>\n",
              "        const buttonEl =\n",
              "          document.querySelector('#df-80a03100-c338-4b07-bdc4-d55450452542 button.colab-df-convert');\n",
              "        buttonEl.style.display =\n",
              "          google.colab.kernel.accessAllowed ? 'block' : 'none';\n",
              "\n",
              "        async function convertToInteractive(key) {\n",
              "          const element = document.querySelector('#df-80a03100-c338-4b07-bdc4-d55450452542');\n",
              "          const dataTable =\n",
              "            await google.colab.kernel.invokeFunction('convertToInteractive',\n",
              "                                                     [key], {});\n",
              "          if (!dataTable) return;\n",
              "\n",
              "          const docLinkHtml = 'Like what you see? Visit the ' +\n",
              "            '<a target=\"_blank\" href=https://colab.research.google.com/notebooks/data_table.ipynb>data table notebook</a>'\n",
              "            + ' to learn more about interactive tables.';\n",
              "          element.innerHTML = '';\n",
              "          dataTable['output_type'] = 'display_data';\n",
              "          await google.colab.output.renderOutput(dataTable, element);\n",
              "          const docLink = document.createElement('div');\n",
              "          docLink.innerHTML = docLinkHtml;\n",
              "          element.appendChild(docLink);\n",
              "        }\n",
              "      </script>\n",
              "    </div>\n",
              "  </div>\n",
              "  "
            ]
          },
          "metadata": {},
          "execution_count": 62
        }
      ]
    },
    {
      "cell_type": "code",
      "source": [
        "sns.histplot(data = df,x=df[\"label\"], hue=df[\"ChildNum\"])"
      ],
      "metadata": {
        "colab": {
          "base_uri": "https://localhost:8080/",
          "height": 296
        },
        "id": "fTugEWxCUN2z",
        "outputId": "fbece6ae-6758-4ec3-e8d8-ec6f9e0c9623"
      },
      "execution_count": 77,
      "outputs": [
        {
          "output_type": "execute_result",
          "data": {
            "text/plain": [
              "<matplotlib.axes._subplots.AxesSubplot at 0x7f56dfacec50>"
            ]
          },
          "metadata": {},
          "execution_count": 77
        },
        {
          "output_type": "display_data",
          "data": {
            "text/plain": [
              "<Figure size 432x288 with 1 Axes>"
            ],
            "image/png": "[encoded data removed]"
          },
          "metadata": {
            "needs_background": "light"
          }
        }
      ]
    },
    {
      "cell_type": "code",
      "source": [
        "sns.boxenplot(data = df,x=df[\"label\"], y=df[\"MntMeatProducts\"], palette= 'pastel')"
      ],
      "metadata": {
        "colab": {
          "base_uri": "https://localhost:8080/",
          "height": 296
        },
        "id": "NlIP1-_bS_7h",
        "outputId": "2fae5520-9929-43d8-d262-3d7c2a24a88c"
      },
      "execution_count": 79,
      "outputs": [
        {
          "output_type": "execute_result",
          "data": {
            "text/plain": [
              "<matplotlib.axes._subplots.AxesSubplot at 0x7f56e22c0290>"
            ]
          },
          "metadata": {},
          "execution_count": 79
        },
        {
          "output_type": "display_data",
          "data": {
            "text/plain": [
              "<Figure size 432x288 with 1 Axes>"
            ],
            "image/png": "[encoded data removed]"
          },
          "metadata": {
            "needs_background": "light"
          }
        }
      ]
    },
    {
      "cell_type": "code",
      "source": [
        "sns.boxenplot(data = df,x=df[\"label\"], y=df[\"MntGoldProds\"], palette= 'pastel')"
      ],
      "metadata": {
        "colab": {
          "base_uri": "https://localhost:8080/",
          "height": 296
        },
        "id": "QWzk2QUHU9xR",
        "outputId": "ed68489f-273f-4881-d410-bde640663652"
      },
      "execution_count": 83,
      "outputs": [
        {
          "output_type": "execute_result",
          "data": {
            "text/plain": [
              "<matplotlib.axes._subplots.AxesSubplot at 0x7f56e20d5490>"
            ]
          },
          "metadata": {},
          "execution_count": 83
        },
        {
          "output_type": "display_data",
          "data": {
            "text/plain": [
              "<Figure size 432x288 with 1 Axes>"
            ],
            "image/png": "[encoded data removed]"
          },
          "metadata": {
            "needs_background": "light"
          }
        }
      ]
    },
    {
      "cell_type": "code",
      "source": [
        ""
      ],
      "metadata": {
        "id": "RpM76nBlVQ6F"
      },
      "execution_count": null,
      "outputs": []
    }
  ],
  "metadata": {
    "kernelspec": {
      "display_name": "Python 3",
      "language": "python",
      "name": "python3"
    },
    "language_info": {
      "codemirror_mode": {
        "name": "ipython",
        "version": 3
      },
      "file_extension": ".py",
      "mimetype": "text/x-python",
      "name": "python",
      "nbconvert_exporter": "python",
      "pygments_lexer": "ipython3",
      "version": "3.6.5"
    },
    "colab": {
      "name": "5230 final project.ipynb",
      "provenance": []
    }
  },
  "nbformat": 4,
  "nbformat_minor": 0
}